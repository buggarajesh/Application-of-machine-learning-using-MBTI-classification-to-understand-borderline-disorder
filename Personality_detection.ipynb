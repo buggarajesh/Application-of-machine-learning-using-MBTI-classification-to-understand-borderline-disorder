{
  "cells": [
    {
      "cell_type": "markdown",
      "metadata": {
        "id": "view-in-github",
        "colab_type": "text"
      },
      "source": [
        "<a href=\"https://colab.research.google.com/github/buggarajesh/Application-of-machine-learning-using-MBTI-classification-to-understand-borderline-disorder/blob/main/Personality_detection.ipynb\" target=\"_parent\"><img src=\"https://colab.research.google.com/assets/colab-badge.svg\" alt=\"Open In Colab\"/></a>"
      ]
    },
    {
      "cell_type": "code",
      "execution_count": null,
      "metadata": {
        "colab": {
          "base_uri": "https://localhost:8080/"
        },
        "id": "lC6rqeNNt5eV",
        "outputId": "a1c18b85-bfee-4b7d-f168-06c0b3f311c1"
      },
      "outputs": [
        {
          "name": "stdout",
          "output_type": "stream",
          "text": [
            "Requirement already satisfied: gdown in /usr/local/lib/python3.10/dist-packages (4.7.3)\n",
            "Collecting gdown\n",
            "  Downloading gdown-5.1.0-py3-none-any.whl (17 kB)\n",
            "Requirement already satisfied: beautifulsoup4 in /usr/local/lib/python3.10/dist-packages (from gdown) (4.12.3)\n",
            "Requirement already satisfied: filelock in /usr/local/lib/python3.10/dist-packages (from gdown) (3.13.3)\n",
            "Requirement already satisfied: requests[socks] in /usr/local/lib/python3.10/dist-packages (from gdown) (2.31.0)\n",
            "Requirement already satisfied: tqdm in /usr/local/lib/python3.10/dist-packages (from gdown) (4.66.2)\n",
            "Requirement already satisfied: soupsieve>1.2 in /usr/local/lib/python3.10/dist-packages (from beautifulsoup4->gdown) (2.5)\n",
            "Requirement already satisfied: charset-normalizer<4,>=2 in /usr/local/lib/python3.10/dist-packages (from requests[socks]->gdown) (3.3.2)\n",
            "Requirement already satisfied: idna<4,>=2.5 in /usr/local/lib/python3.10/dist-packages (from requests[socks]->gdown) (3.6)\n",
            "Requirement already satisfied: urllib3<3,>=1.21.1 in /usr/local/lib/python3.10/dist-packages (from requests[socks]->gdown) (2.0.7)\n",
            "Requirement already satisfied: certifi>=2017.4.17 in /usr/local/lib/python3.10/dist-packages (from requests[socks]->gdown) (2024.2.2)\n",
            "Requirement already satisfied: PySocks!=1.5.7,>=1.5.6 in /usr/local/lib/python3.10/dist-packages (from requests[socks]->gdown) (1.7.1)\n",
            "Installing collected packages: gdown\n",
            "  Attempting uninstall: gdown\n",
            "    Found existing installation: gdown 4.7.3\n",
            "    Uninstalling gdown-4.7.3:\n",
            "      Successfully uninstalled gdown-4.7.3\n",
            "Successfully installed gdown-5.1.0\n",
            "Downloading...\n",
            "From: https://drive.google.com/uc?id=1exlBNg0ywwxXwPd1PUy_lFBguwbgjZ3q\n",
            "To: /content/mbti_1.csv.zip\n",
            "100% 25.6M/25.6M [00:00<00:00, 62.9MB/s]\n",
            "Archive:  /content/mbti_1.csv.zip\n",
            "  inflating: mbti_1.csv              \n"
          ]
        }
      ],
      "source": [
        "!rm -rf /content/*\n",
        "!pip install --upgrade --no-cache-dir gdown\n",
        "#https://drive.google.com/file/d/1exlBNg0ywwxXwPd1PUy_lFBguwbgjZ3q/view?usp=sharing\n",
        "!gdown https://drive.google.com/uc?id=1exlBNg0ywwxXwPd1PUy_lFBguwbgjZ3q\n",
        "!unzip /content/mbti_1.csv.zip\n",
        "!rm -rf /content/mbti_1.csv.zip"
      ]
    },
    {
      "cell_type": "code",
      "execution_count": null,
      "metadata": {
        "colab": {
          "base_uri": "https://localhost:8080/",
          "height": 206
        },
        "id": "HDdJOE8PuJlv",
        "outputId": "d080c80a-52e8-455a-e0b3-19624ebd3490"
      },
      "outputs": [
        {
          "data": {
            "application/vnd.google.colaboratory.intrinsic+json": {
              "summary": "{\n  \"name\": \"df\",\n  \"rows\": 8675,\n  \"fields\": [\n    {\n      \"column\": \"type\",\n      \"properties\": {\n        \"dtype\": \"category\",\n        \"num_unique_values\": 16,\n        \"samples\": [\n          \"INFJ\",\n          \"ENTP\",\n          \"ENFJ\"\n        ],\n        \"semantic_type\": \"\",\n        \"description\": \"\"\n      }\n    },\n    {\n      \"column\": \"posts\",\n      \"properties\": {\n        \"dtype\": \"string\",\n        \"num_unique_values\": 8675,\n        \"samples\": [\n          \"'This. When I lie it's to avoid an unreasonable response for something I did that was completely justifiable to me but if I was to try to justify to someone else they'd be too hung up on what I did. I...|||Your IQ (SD15): 128|||I typically have very difficult times maintaining friends I've come to realize. I've had people I talk to for years and I still don't want to talk to them... I DID, but then I just got bored of them,...|||An INTJ friend of mine told me she really hates eating because it's so repetitive. As an INTP I don't really feel bothered, I don't really register eating I just do it while I'm thinking about...|||Similar Minds Advanced Test|||INTP 9 sx/so I have a lot of friends but I only have one I speak about how I actually feel with and only 1 other that I talk about what I am actually thinking about - with regards to...|||Getting close to someone and end up wanting to be infinitely close to them and end up merging every damn time.|||Interesting topic, I know two ENFP's, 1 is strange, as an INTP I view some of the stuff she does as 'coming onto me'?  - sort of. She gets really close and is very open to me, just what ENFP's do,...|||As far as I'm aware this is normal in all people, it's not so much your pessimistic self but just that humans are social creatures and you will feel better after socializing for that reason. Being...|||Vajrayaksa  How dare you use Lelouch as an INTP! He is an INTJ I say!|||I normally think about doing this stuff but don't actually do it.|||You'll probably find that commenting on their nihilistic thoughts logically would make them more open. Dismissing ideas will merely make them agree with that idea more as they'll feel a need to...|||Don't worry, calling me thinker is the same.|||INTJ - Winter - Coldest ENTJ - Summer - Actually doing things ENTP - Spring - Bringing out the fun in people INTP - Autumn - No one ever notices this season|||I've known a couple ENTP's, one ENTJ and an INTJ and it kind of went ENTP>ENTJ>ENTP>INTJ I love being able to constantly talk with ENTP's but also they need to know when to stop talking, if an ENTP...|||If you mean actually 1v1ing yourself I also have done this, maybe I'm wrong but I find it pretty easy to think about the most logical move the player I am playing should make with the information...|||Gender: female Age: 19-29 Intelligence: gifted Idea adoption: early-adopter MBTI personality profile: ESFP Closest alternative we found: ESFJ  I think I killed it when it told me to write...|||I'm fine with them, I'm more on shortage of people I'd ever want to do them with but that's on the grounds that any socialising that could be done could just as well be done over skype without the...|||I used to use pencils then I was told that my teachers wanted me to use pens only - so I used pens only. I haven't used a pencil - excluding my games of naughts and crosses earlier - in a couple...|||I'd love to own either a calm house out somewhere distant with a porch and a log cabin aesthetic - fuck it, I want a log cabin. OR I'd actually really like the idea of being in one of those smokey...|||Yeah I enjoy listening to lyrics but it doesn't make much of a difference if they're present or not, if they are there they're just another part of the instrumental I don't necessarily listen to...|||More often then not someone is only going to be fully entering my world if they invite me into theirs first and it's similar or we're friends on the internet - because then there are few...|||What did you get me today?  My head = Shit, shit, shit what did I miss, is it your birthday? Was I supposed to get you something? Are we that good friends that I should be buying you stuff? I...|||I frequently say it as an off hand thing, someone does something really awesome and I say fuck yeah I love you man or something like that. If I was to say it in a genuine way then it'd feel really...|||So something strange has been happening recently, my interest was drawn to naughts and crosses and how I could make it more enjoyable to play. I started by increasing the grid size and tried...|||You could tell them your thoughts. You could not tell them your thoughts and continue to brew over it. I think that there's no reason to be ashamed or annoyed about anything and if you don't...|||loudly, whilst he drew his|||and the baby platypi quivered|||particularly in the higher regions|||Starting with a lingering feeling|||What's the point of stopping? Why does it matter what they're called? Guilty pleasures are pleasures for a reason, does it matter that much?|||their own god dam story|||post multiple times to do|||It's impressive how people would|||Maximum of five words per line, feel free to say other stuff in the most but make sure it's clear which is the five words.     Once upon a time in|||someone who appreciates c.c. Fuck yeah!|||Yeezus can't we come to a reasonable conclusion without you picking a fight? It's not being open minded.|||More often then not I judge them purely by how they judge me, I have a dark sense of humor that I'm not exactly secretive about, I get along with most people on the grounds that I'm just friendly to...|||I chose my avatar as it's an awesome art work of Kaneki from Tokyo Ghoul and by god I loved the manga, love tragedies. Name is a slightly altered version of my name, George - Georgius. Liked the Halo...|||Violence in this situation would probably be a faster way to get things done for both parties involved and especially on the receiving end, trying to talk sense into someone who just said something...|||But surely the point that everyone would be worse off initially isn't relevant? Rebuilding a system would obviously have it's issues here and there.  I'm not crying revolution and I'm not being...|||We'd call it Diagon Alley!|||I'm with you, I make a pretty big point of not being a person for people to expect feelings from, I want to be that person but I just feel wrong, someones crying their eyes out and here I am lying...|||Good call but that's just how I read it ^^'|||What about a four dimensional plane.|||Why airplane why not aeroplane?|||Hit them for having the expectation that you should live up to their expectations which is infuriating in and of itself probably.|||It's just because hitting a women is politically incorrect and some women will use that to their advantage.|||What he's saying is that they should assume that if they say something worthy of being hit for, that they should be grateful when they're not hit for it, not expect not to be hit just on the basis...|||Is it particularly common amongst INTP's and other types to just acknowledge another sides point of view even though socially you shouldn't. What I mean by this is I can't have conversation with...'\",\n          \"'I said zero flexibility and little time for dating. Going around sifting through dates to find one that clicks isn't going to be as viable.  That has nothing to do with maintaining a relationship I...|||How you've come to the conclusion I have nothing to offer  merely because I am busy is beyond me.       No not really. Again, more made up stuff.|||okay, this isn't cool.  you're specifically looking to get into a relationship because you're about to enter a life phase where you will not have any resources to give to a relationship?   that is...|||I do take it slow (that's why I'm still single), but I'm not interested in making friends. I  have friends. Enough for my liking. I'm interested in going on dates with the intent of entering a...|||Absolutely not for me. I find the idea repugnant, actually.|||People could have been polite. Maybe average is a more conservative bet. And I'm not claiming I'm a social butterfly. I'm just a normal guy who is introverted but not a social doofus.  I don't...|||I'm probably giving up the online thing here when my next subscription runs out. After that I really don't know where to look. Bars are a definite no. I don't understand where people meet their...|||I've tried both ways, actually. The last few women I have gone out with have gotten really weird and/or ignored my backhanded compliments. I don't know what to do anymore. Seems I get screwed either...|||I'm actually pretty healthy.     Sorry you feel that way. Not sure which ones you met, but assholes exist everywhere. The number isn't anywhere near 99% though.|||If anything I err on the side of being indifferent. Definitely not overeager.|||Yeah my close friends don't live near me anymore.  The issue is that I have been meeting people, a good amount, and nothing works. I want to know why it is that deformed, infirm, mentally unstable,...|||My friends are in worse positions than I am. Asking them isn't going to help.   As far as feedback, not really because that seems like an extraordinarily awkward thing to ask someone you barely...|||So, I'm a 26 year old male who has been striking out time and time again when it comes to relationships. I've been in one relationship my entire life that lasted like 1.5 years and ended when I was...|||I don't think this sort of dating method is very reasonable, and at best, it is counterproductive. Being friends first just throws a wrench in what is normally a smooth dating process. When you fear...|||Never was a kiss.|||I appreciate the feedback. I think I'm just going to tell her we shouldn't hang out unless she can dedicate a decent amount of time to it. What is happening right now is dragging things out and...|||I don't know. After thinking more, I'm on the verge of giving up. It has nothing to do with seeing her infrequently, or not making it official or what have you. It's that she keeps things...|||I don't know. I'm not a model or anything but I'm decent looking. She's drop dead gorgeous and nice and smart. Guys are always after her it seems. But I'm also smarter and have better career...|||I like your answer, but maybe I'm just being optimistic. It is basically, what I've been doing. I can't shake the feeling that she wouldn't be giving me any of her time if she weren't interested and...|||How am I supposed to know if an INFJ just wants to be friends? Things have been very weird with an INFJ I've been seeing. I've been very upfront about my intentions and she essentially told me she...|||Interesting. I find it unusual INFJs are known for taking forever to open up and trust people yet all the responses so far have indicated kissing in 3 or fewer dates....|||My INFJ friend has been with an INTJ, and i don't want to bust your confidence but even though she liked him at first, she soon found out that he was putting her down and felt caged. I can see that...|||Enlighten us infjs. Also indicate your gender and if you initiated.|||Well there was more than that. She also said she was basically trying to figure out if I'm trustworthy and decent.|||Those two things seem at odds. How can you be simultaneously not saying things that need to be said but also being proactively aggressive?|||Pretty much yeah. Women just do not enjoy my company on any level. I'm in the same situation. Never had any female friends, dated one person in my life and it lasted a little less than two years. The...|||I don't think that is going to help me dig myself out of the very clingy seeming hole I dug myself. I basically asked her if she knew I was romantically interested and she responded of course lol...|||I should have just let things proceed at a natural pace. Pretty pissed at myself. About zero chance she speaks to me again.|||I read through most of that thread. From what I can tell I never did anything egregious. Good chance she lost interest after my bluntness though lol.|||I broke that off shortly after my post. I felt like a slime ball. I only did it because people were telling me she's a lost cause and I should see other people. BTW I have a very well developed...|||Update on this. Told her I liked her and got no reassurance she liked me or even that she wasn't interested. Those who said she was ambivalent were right. I'm pretty much calling it off at this point...|||Yeah so I told her and didn't get an affirmation she liked me nor that she didn't. She basically said she had known for a while I like her. Pretty much what I expected. Probably going to call it...|||Is the crystal ball reference supposed to mean your guess is as good as mine or what? Edit: guess not :p|||So I've gone on six or so dates with an INFJ over a 3 month period (she's pretty busy, and me too) and recently I feel like progress has been a little glacial. For a bit I thought she was warming up...|||She hates texting.  And yeah, she told me how picky she was about people recently and that normally she wouldn't give anyone the time of day.|||You would literally have to have an autism spectrum disorder. I would know.  Not to mention you don't tell someone who is just friends how much you like them. That would be more than bizarre.|||It's kind of hard to get to the point of officially dating when you have no idea what is going on in her head. For all I know an attempt to kiss her would result in abject horror and assault...|||Spoke to her last night, she essentially said she likes me a lot and would normally never make any time for people unless she was obligated to. But she also indirectly used the word friend but it...|||So I met an INFJ female a while back, and we've been out like five or so times on a date. They go well, we get along, everything seems nice. I find her very attractive and we have quite a bit in...|||'  I don't know, I kind of have a rule that I don't compliment a female on her appearance until she trusts me. I did compliment her personality a few times.  She is extremely cautious from what I...|||Well, now I have a new question. Went on a second date a few days ago and it went well and she said she wanted to meet up again. The problem is, there hasn't been an ounce of flirting or touching...|||She started initiating with me and asked if I'm free soon. -_-    If there is anything to be learned it is don't play the analysis game. You will lose.|||Expectations of....?|||I don't know. I can't really fault a strong introvert for being wary about someone she doesn't really know. Number 2 is cruel, but it is how modern dating works.    Pretty sure this isn't the...|||I don't know. I can't really fault a strong introvert for being wary about someone she doesn't really know. Number 2 is cruel, but it is how modern dating works.    Pretty sure this isn't the...|||Thanks, option 1 seems most likely. It seems whenever I finally get her to open up there is like a cascade of good conversation that finally ensues, but it is like pulling teeth initially. Then I...|||I'm socially retarded and would know that if a random stranger asked for my contact info then asked me out for drinks or lunch then the person probably isn't interested in just being friends.|||So I shouldn't be deterred by the fact she doesn't really ever reach out to me? I don't enjoy appearing like someone who can't take a hint or who puts someone else in an awkward situation. I worry...|||No this seems to fit her pretty well.|||Thanks for the advice everyone. I appreciate your taking the time to respond.'\",\n          \"'This has to be written with bias or something, I'm not sure how you could even say that truthfully. For some reason you put subjectivity for both God and man? It says nothing.    That makes no...|||??? How?  The main priority of the church is written throughout it's texts for the past nearly 2000 years and reverberated throughout the church's dialogues both before and after the incident about...|||That's an annoying phrasing, as it's just obtuse and confusing to newcomers. I don't blame you for your response there.    Why must the revealed knowledge not speak truth but contain a bias...|||There are no priestly desk jobs. The closest thing you have to being a priest that gets you away from people is being a monk and that in itself is very different.  I am telling you they did it out...|||No, you really won't. You can't just go to an INTP and assume their intelligence level. That would end in failure. Don't be afraid to ask big questions when musing with the INTP and just try to...|||Heresy is, like, the core reason most all Christian in-fighting occurs. Everything else is minor disputes about theological opinions.|||That's exceedingly subjective. See what they're interested in, strike up a conversation about it. Definitely ask them their thoughts.|||To dismiss my concept of it is to dismiss all history on the topic, dismiss what the apostles taught, and literally all sects of Christianity. But fine, whatever.|||Do cool shit, discuss ideas, have patience, don't try to judge personally too quickly or control them. ALSO, make the first move to show you're interested in talking with them.|||I used to feel about the same until I read the book Self-Made Man, where a lesbian 'butch' woman dressed like a man and tried to live as one. She noticed herself being considered a feminine man quite...|||I'm not sure what the hell is going on in this thread but I would like to say I know no ENTJs personally, I don't think. It'd be neat, though.|||All churches are forms of political institutions. Catholic and Orthodox ones have the benefit of being centralized. All sects have declared doctrine in one way or another.  You're speaking against...|||And here is the most boring post in the whole thread.|||What part? If it's the idea of a teaching authority, you have a problem with all church until the 13th century. If it's the idea of a group being guided by the Holy Spirit in their decisions on...|||For Catholics, the church has a dual meaning. The whole of the believers (the Body of Christ) and the political institution. For Catholicism, their teachings of Christ are said to be protected by...|||Priests were relocated to other parishes so they may quiet down the criticism of the time and handle thing themselves. Again, poor decision but that was their decision.  The church's first priority...|||Well sure then. Yes, the church did protect child offenders. The church's reasoning was the image of the church itself and the their leadership's own ignorance of the size of the problem. The church...|||Edit: Based double post|||No, it really isn't. The Bible itself is the canon collection of texts. The Bible was established once the theological and historical work was done to establish the canon and it was not modified...|||Yes, nevermind it because the two claims do not contradict each other at all. I could work through how there is no contradiction if you're struggling.    I wouldn't say all, no. That's a...|||? There's no way to tell? But many of them depend on logic and/or history that contradicts or ruins their claims? Granted there are a few cases of we're yet to be able to know but many of it can...|||The problem of induction is a grand way of humbling yourself about scientific findings when you're younger. It brings into question if what we know is what we could call true.|||Rubix cubes.|||Pantheism makes no sense. I'd advise otherwise. Atheism and Abrahamic Theism are the only two rational choices.|||You, motherfucker.|||What is the meaning of everything? The universe exists. We are to learn to love in it.|||Disappointed 24 year old reporting in.  Good luck, OP.|||This is exceedingly naive. The early church, before scripture, applied their teaching to better society. After scripture, it was held in high esteem as a basis to properly better society. Most work...|||From the Catholic Catechism (list of official teaching) here is how we are to read the Bible:  III. THE HOLY SPIRIT, INTERPRETER OF SCRIPTURE   109 In Sacred Scripture, God speaks to man in a...|||I never liked people pointing to the Scandinavian model for the success of their economic system and not their incredible oil and natural resource supply compared to their small populations.|||While shit just got stupid for a moment. Lets try to get back on track.|||You're pretty smart, you know that?  Look at this fucker, she thinks I'm smart. Pfft.|||Exceedingly poor.|||I've just been told I'm bright, but I'm sure most everyone else says the same to the kids.|||And what of you?|||The most efficient way to remove self-doubt is to stop doubting yourself so much. Faith and trust, nigga.|||You suspect wrongly. I like the chatter and I'm being friendly with you. I seriously do hope you have a good day too.|||Indeed you do. Feel free to ask/argue/chat/or bullshit with me if you want. Have a good one, man.|||I'd say that's a stretch to say. Catholics believe the bible was inspired by God but written by men. Orthodox do too. As they assembled the biblical canon I'd have to say they have the greatest say...|||Edit: Welp.|||I see the arguments for inconsistencies. Sometimes they aren't actually inconsistencies. Sometimes they are. I find the simplest example of a true one being the rabbit that is apparently chewing...|||Sorry to take so long to get back to you, my internet has been screwing up horribly.  As for the answer, there was a considerable amount of things that got me off the atheist train but if I were to...|||The believing portion was a long and arduous process for me. I researched culture as a hobby and eventually I rolled around to religion. It was an interesting topic for me and I eventually began to...|||To your first statement... just... what. Where did that even come from? Of course they can know love, though with God they can know it fully, I'd argue.  As for Hell, it's taken a variety of...|||I'm very mixed on him. His criticism of Christianity (and envy, now that I've seen the video) is, while popular, piss poor and Max Scheler did a wonderful job making an argument otherwise on his...|||People believing in something as incontrovertibly true is what gets people into a murderous rage? Why just the incontrovertibly true? Why not the empirically true? Why not just majority opinion? To...|||Sure thing. Sounds sorta similar to the Epicurean Paradox.  Suffering/free will exists to strengthen the good. If you create a people so they may know love they cannot sincerely know love if they...|||Yo. Christian INTP here.  Anything you want?|||It's not we can make healthy children! it's we only let the healthy babies live! which is the issue. It's a moral issue about the innate value of life.|||249210'\"\n        ],\n        \"semantic_type\": \"\",\n        \"description\": \"\"\n      }\n    }\n  ]\n}",
              "type": "dataframe",
              "variable_name": "df"
            },
            "text/html": [
              "\n",
              "  <div id=\"df-d2f872ce-d19a-440d-aae7-ae5172a0a692\" class=\"colab-df-container\">\n",
              "    <div>\n",
              "<style scoped>\n",
              "    .dataframe tbody tr th:only-of-type {\n",
              "        vertical-align: middle;\n",
              "    }\n",
              "\n",
              "    .dataframe tbody tr th {\n",
              "        vertical-align: top;\n",
              "    }\n",
              "\n",
              "    .dataframe thead th {\n",
              "        text-align: right;\n",
              "    }\n",
              "</style>\n",
              "<table border=\"1\" class=\"dataframe\">\n",
              "  <thead>\n",
              "    <tr style=\"text-align: right;\">\n",
              "      <th></th>\n",
              "      <th>type</th>\n",
              "      <th>posts</th>\n",
              "    </tr>\n",
              "  </thead>\n",
              "  <tbody>\n",
              "    <tr>\n",
              "      <th>0</th>\n",
              "      <td>INFJ</td>\n",
              "      <td>'http://www.youtube.com/watch?v=qsXHcwe3krw|||...</td>\n",
              "    </tr>\n",
              "    <tr>\n",
              "      <th>1</th>\n",
              "      <td>ENTP</td>\n",
              "      <td>'I'm finding the lack of me in these posts ver...</td>\n",
              "    </tr>\n",
              "    <tr>\n",
              "      <th>2</th>\n",
              "      <td>INTP</td>\n",
              "      <td>'Good one  _____   https://www.youtube.com/wat...</td>\n",
              "    </tr>\n",
              "    <tr>\n",
              "      <th>3</th>\n",
              "      <td>INTJ</td>\n",
              "      <td>'Dear INTP,   I enjoyed our conversation the o...</td>\n",
              "    </tr>\n",
              "    <tr>\n",
              "      <th>4</th>\n",
              "      <td>ENTJ</td>\n",
              "      <td>'You're fired.|||That's another silly misconce...</td>\n",
              "    </tr>\n",
              "  </tbody>\n",
              "</table>\n",
              "</div>\n",
              "    <div class=\"colab-df-buttons\">\n",
              "\n",
              "  <div class=\"colab-df-container\">\n",
              "    <button class=\"colab-df-convert\" onclick=\"convertToInteractive('df-d2f872ce-d19a-440d-aae7-ae5172a0a692')\"\n",
              "            title=\"Convert this dataframe to an interactive table.\"\n",
              "            style=\"display:none;\">\n",
              "\n",
              "  <svg xmlns=\"http://www.w3.org/2000/svg\" height=\"24px\" viewBox=\"0 -960 960 960\">\n",
              "    <path d=\"M120-120v-720h720v720H120Zm60-500h600v-160H180v160Zm220 220h160v-160H400v160Zm0 220h160v-160H400v160ZM180-400h160v-160H180v160Zm440 0h160v-160H620v160ZM180-180h160v-160H180v160Zm440 0h160v-160H620v160Z\"/>\n",
              "  </svg>\n",
              "    </button>\n",
              "\n",
              "  <style>\n",
              "    .colab-df-container {\n",
              "      display:flex;\n",
              "      gap: 12px;\n",
              "    }\n",
              "\n",
              "    .colab-df-convert {\n",
              "      background-color: #E8F0FE;\n",
              "      border: none;\n",
              "      border-radius: 50%;\n",
              "      cursor: pointer;\n",
              "      display: none;\n",
              "      fill: #1967D2;\n",
              "      height: 32px;\n",
              "      padding: 0 0 0 0;\n",
              "      width: 32px;\n",
              "    }\n",
              "\n",
              "    .colab-df-convert:hover {\n",
              "      background-color: #E2EBFA;\n",
              "      box-shadow: 0px 1px 2px rgba(60, 64, 67, 0.3), 0px 1px 3px 1px rgba(60, 64, 67, 0.15);\n",
              "      fill: #174EA6;\n",
              "    }\n",
              "\n",
              "    .colab-df-buttons div {\n",
              "      margin-bottom: 4px;\n",
              "    }\n",
              "\n",
              "    [theme=dark] .colab-df-convert {\n",
              "      background-color: #3B4455;\n",
              "      fill: #D2E3FC;\n",
              "    }\n",
              "\n",
              "    [theme=dark] .colab-df-convert:hover {\n",
              "      background-color: #434B5C;\n",
              "      box-shadow: 0px 1px 3px 1px rgba(0, 0, 0, 0.15);\n",
              "      filter: drop-shadow(0px 1px 2px rgba(0, 0, 0, 0.3));\n",
              "      fill: #FFFFFF;\n",
              "    }\n",
              "  </style>\n",
              "\n",
              "    <script>\n",
              "      const buttonEl =\n",
              "        document.querySelector('#df-d2f872ce-d19a-440d-aae7-ae5172a0a692 button.colab-df-convert');\n",
              "      buttonEl.style.display =\n",
              "        google.colab.kernel.accessAllowed ? 'block' : 'none';\n",
              "\n",
              "      async function convertToInteractive(key) {\n",
              "        const element = document.querySelector('#df-d2f872ce-d19a-440d-aae7-ae5172a0a692');\n",
              "        const dataTable =\n",
              "          await google.colab.kernel.invokeFunction('convertToInteractive',\n",
              "                                                    [key], {});\n",
              "        if (!dataTable) return;\n",
              "\n",
              "        const docLinkHtml = 'Like what you see? Visit the ' +\n",
              "          '<a target=\"_blank\" href=https://colab.research.google.com/notebooks/data_table.ipynb>data table notebook</a>'\n",
              "          + ' to learn more about interactive tables.';\n",
              "        element.innerHTML = '';\n",
              "        dataTable['output_type'] = 'display_data';\n",
              "        await google.colab.output.renderOutput(dataTable, element);\n",
              "        const docLink = document.createElement('div');\n",
              "        docLink.innerHTML = docLinkHtml;\n",
              "        element.appendChild(docLink);\n",
              "      }\n",
              "    </script>\n",
              "  </div>\n",
              "\n",
              "\n",
              "<div id=\"df-f28182b1-67af-4498-a800-a42d48772660\">\n",
              "  <button class=\"colab-df-quickchart\" onclick=\"quickchart('df-f28182b1-67af-4498-a800-a42d48772660')\"\n",
              "            title=\"Suggest charts\"\n",
              "            style=\"display:none;\">\n",
              "\n",
              "<svg xmlns=\"http://www.w3.org/2000/svg\" height=\"24px\"viewBox=\"0 0 24 24\"\n",
              "     width=\"24px\">\n",
              "    <g>\n",
              "        <path d=\"M19 3H5c-1.1 0-2 .9-2 2v14c0 1.1.9 2 2 2h14c1.1 0 2-.9 2-2V5c0-1.1-.9-2-2-2zM9 17H7v-7h2v7zm4 0h-2V7h2v10zm4 0h-2v-4h2v4z\"/>\n",
              "    </g>\n",
              "</svg>\n",
              "  </button>\n",
              "\n",
              "<style>\n",
              "  .colab-df-quickchart {\n",
              "      --bg-color: #E8F0FE;\n",
              "      --fill-color: #1967D2;\n",
              "      --hover-bg-color: #E2EBFA;\n",
              "      --hover-fill-color: #174EA6;\n",
              "      --disabled-fill-color: #AAA;\n",
              "      --disabled-bg-color: #DDD;\n",
              "  }\n",
              "\n",
              "  [theme=dark] .colab-df-quickchart {\n",
              "      --bg-color: #3B4455;\n",
              "      --fill-color: #D2E3FC;\n",
              "      --hover-bg-color: #434B5C;\n",
              "      --hover-fill-color: #FFFFFF;\n",
              "      --disabled-bg-color: #3B4455;\n",
              "      --disabled-fill-color: #666;\n",
              "  }\n",
              "\n",
              "  .colab-df-quickchart {\n",
              "    background-color: var(--bg-color);\n",
              "    border: none;\n",
              "    border-radius: 50%;\n",
              "    cursor: pointer;\n",
              "    display: none;\n",
              "    fill: var(--fill-color);\n",
              "    height: 32px;\n",
              "    padding: 0;\n",
              "    width: 32px;\n",
              "  }\n",
              "\n",
              "  .colab-df-quickchart:hover {\n",
              "    background-color: var(--hover-bg-color);\n",
              "    box-shadow: 0 1px 2px rgba(60, 64, 67, 0.3), 0 1px 3px 1px rgba(60, 64, 67, 0.15);\n",
              "    fill: var(--button-hover-fill-color);\n",
              "  }\n",
              "\n",
              "  .colab-df-quickchart-complete:disabled,\n",
              "  .colab-df-quickchart-complete:disabled:hover {\n",
              "    background-color: var(--disabled-bg-color);\n",
              "    fill: var(--disabled-fill-color);\n",
              "    box-shadow: none;\n",
              "  }\n",
              "\n",
              "  .colab-df-spinner {\n",
              "    border: 2px solid var(--fill-color);\n",
              "    border-color: transparent;\n",
              "    border-bottom-color: var(--fill-color);\n",
              "    animation:\n",
              "      spin 1s steps(1) infinite;\n",
              "  }\n",
              "\n",
              "  @keyframes spin {\n",
              "    0% {\n",
              "      border-color: transparent;\n",
              "      border-bottom-color: var(--fill-color);\n",
              "      border-left-color: var(--fill-color);\n",
              "    }\n",
              "    20% {\n",
              "      border-color: transparent;\n",
              "      border-left-color: var(--fill-color);\n",
              "      border-top-color: var(--fill-color);\n",
              "    }\n",
              "    30% {\n",
              "      border-color: transparent;\n",
              "      border-left-color: var(--fill-color);\n",
              "      border-top-color: var(--fill-color);\n",
              "      border-right-color: var(--fill-color);\n",
              "    }\n",
              "    40% {\n",
              "      border-color: transparent;\n",
              "      border-right-color: var(--fill-color);\n",
              "      border-top-color: var(--fill-color);\n",
              "    }\n",
              "    60% {\n",
              "      border-color: transparent;\n",
              "      border-right-color: var(--fill-color);\n",
              "    }\n",
              "    80% {\n",
              "      border-color: transparent;\n",
              "      border-right-color: var(--fill-color);\n",
              "      border-bottom-color: var(--fill-color);\n",
              "    }\n",
              "    90% {\n",
              "      border-color: transparent;\n",
              "      border-bottom-color: var(--fill-color);\n",
              "    }\n",
              "  }\n",
              "</style>\n",
              "\n",
              "  <script>\n",
              "    async function quickchart(key) {\n",
              "      const quickchartButtonEl =\n",
              "        document.querySelector('#' + key + ' button');\n",
              "      quickchartButtonEl.disabled = true;  // To prevent multiple clicks.\n",
              "      quickchartButtonEl.classList.add('colab-df-spinner');\n",
              "      try {\n",
              "        const charts = await google.colab.kernel.invokeFunction(\n",
              "            'suggestCharts', [key], {});\n",
              "      } catch (error) {\n",
              "        console.error('Error during call to suggestCharts:', error);\n",
              "      }\n",
              "      quickchartButtonEl.classList.remove('colab-df-spinner');\n",
              "      quickchartButtonEl.classList.add('colab-df-quickchart-complete');\n",
              "    }\n",
              "    (() => {\n",
              "      let quickchartButtonEl =\n",
              "        document.querySelector('#df-f28182b1-67af-4498-a800-a42d48772660 button');\n",
              "      quickchartButtonEl.style.display =\n",
              "        google.colab.kernel.accessAllowed ? 'block' : 'none';\n",
              "    })();\n",
              "  </script>\n",
              "</div>\n",
              "\n",
              "    </div>\n",
              "  </div>\n"
            ],
            "text/plain": [
              "   type                                              posts\n",
              "0  INFJ  'http://www.youtube.com/watch?v=qsXHcwe3krw|||...\n",
              "1  ENTP  'I'm finding the lack of me in these posts ver...\n",
              "2  INTP  'Good one  _____   https://www.youtube.com/wat...\n",
              "3  INTJ  'Dear INTP,   I enjoyed our conversation the o...\n",
              "4  ENTJ  'You're fired.|||That's another silly misconce..."
            ]
          },
          "execution_count": 2,
          "metadata": {},
          "output_type": "execute_result"
        }
      ],
      "source": [
        "import pandas as pd\n",
        "df = pd.read_csv('/content/mbti_1.csv')\n",
        "df.head()"
      ]
    },
    {
      "cell_type": "code",
      "execution_count": null,
      "metadata": {
        "colab": {
          "base_uri": "https://localhost:8080/"
        },
        "id": "7zMsVxHVuXCh",
        "outputId": "ec98c572-6cb1-45d3-fd3b-2088a5c42bf0"
      },
      "outputs": [
        {
          "data": {
            "text/plain": [
              "(8675, 2)"
            ]
          },
          "execution_count": 3,
          "metadata": {},
          "output_type": "execute_result"
        }
      ],
      "source": [
        "df.shape"
      ]
    },
    {
      "cell_type": "code",
      "execution_count": null,
      "metadata": {
        "colab": {
          "base_uri": "https://localhost:8080/"
        },
        "id": "a5yju9DOuUyd",
        "outputId": "26fe4676-609b-446d-ee00-2abc6352fc79"
      },
      "outputs": [
        {
          "data": {
            "text/plain": [
              "type\n",
              "INFP    1832\n",
              "INFJ    1470\n",
              "INTP    1304\n",
              "INTJ    1091\n",
              "ENTP     685\n",
              "ENFP     675\n",
              "ISTP     337\n",
              "ISFP     271\n",
              "ENTJ     231\n",
              "ISTJ     205\n",
              "ENFJ     190\n",
              "ISFJ     166\n",
              "ESTP      89\n",
              "ESFP      48\n",
              "ESFJ      42\n",
              "ESTJ      39\n",
              "Name: count, dtype: int64"
            ]
          },
          "execution_count": 4,
          "metadata": {},
          "output_type": "execute_result"
        }
      ],
      "source": [
        "df['type'].value_counts()"
      ]
    },
    {
      "cell_type": "code",
      "execution_count": null,
      "metadata": {
        "colab": {
          "base_uri": "https://localhost:8080/"
        },
        "id": "CpDSo010vJ5G",
        "outputId": "14875459-187a-4ad7-86b8-577d669c5afd"
      },
      "outputs": [
        {
          "data": {
            "text/plain": [
              "array(['INFJ', 'ENTP', 'INTP', 'INTJ', 'ENTJ', 'ENFJ', 'INFP', 'ENFP',\n",
              "       'ISFP', 'ISTP', 'ISFJ', 'ISTJ', 'ESTP', 'ESFP', 'ESTJ', 'ESFJ'],\n",
              "      dtype=object)"
            ]
          },
          "execution_count": 5,
          "metadata": {},
          "output_type": "execute_result"
        }
      ],
      "source": [
        "df['type'].unique()"
      ]
    },
    {
      "cell_type": "code",
      "execution_count": null,
      "metadata": {
        "colab": {
          "base_uri": "https://localhost:8080/"
        },
        "id": "01D6uq3jTS6t",
        "outputId": "091e0001-c990-4d73-f940-41cbb0964b60"
      },
      "outputs": [
        {
          "name": "stdout",
          "output_type": "stream",
          "text": [
            "Collecting contractions\n",
            "  Downloading contractions-0.1.73-py2.py3-none-any.whl (8.7 kB)\n",
            "Collecting textsearch>=0.0.21 (from contractions)\n",
            "  Downloading textsearch-0.0.24-py2.py3-none-any.whl (7.6 kB)\n",
            "Collecting anyascii (from textsearch>=0.0.21->contractions)\n",
            "  Downloading anyascii-0.3.2-py3-none-any.whl (289 kB)\n",
            "\u001b[2K     \u001b[90m━━━━━━━━━━━━━━━━━━━━━━━━━━━━━━━━━━━━━━━━\u001b[0m \u001b[32m289.9/289.9 kB\u001b[0m \u001b[31m5.9 MB/s\u001b[0m eta \u001b[36m0:00:00\u001b[0m\n",
            "\u001b[?25hCollecting pyahocorasick (from textsearch>=0.0.21->contractions)\n",
            "  Downloading pyahocorasick-2.1.0-cp310-cp310-manylinux_2_5_x86_64.manylinux1_x86_64.manylinux_2_12_x86_64.manylinux2010_x86_64.whl (110 kB)\n",
            "\u001b[2K     \u001b[90m━━━━━━━━━━━━━━━━━━━━━━━━━━━━━━━━━━━━━━━━\u001b[0m \u001b[32m110.7/110.7 kB\u001b[0m \u001b[31m6.8 MB/s\u001b[0m eta \u001b[36m0:00:00\u001b[0m\n",
            "\u001b[?25hInstalling collected packages: pyahocorasick, anyascii, textsearch, contractions\n",
            "Successfully installed anyascii-0.3.2 contractions-0.1.73 pyahocorasick-2.1.0 textsearch-0.0.24\n"
          ]
        }
      ],
      "source": [
        "!pip install contractions"
      ]
    },
    {
      "cell_type": "code",
      "execution_count": null,
      "metadata": {
        "id": "2X-SEao2TJ4o"
      },
      "outputs": [],
      "source": [
        "import contractions\n",
        "import string\n",
        "import re\n",
        "\n",
        "def replace_url(tweet, default_replace=\"\"):\n",
        "    tweet = re.sub('(http|https):\\/\\/\\S+', default_replace, tweet)\n",
        "    return tweet\n",
        "\n",
        "def to_lowercase(tweet):\n",
        "    tweet = tweet.lower()\n",
        "    return tweet\n",
        "\n",
        "def word_repetition(tweet):\n",
        "    tweet = re.sub(r'(.)\\1+', r'\\1\\1', tweet)\n",
        "    return tweet\n",
        "\n",
        "def punct_repetition(tweet, default_replace=\"\"):\n",
        "    tweet = re.sub(r'[\\?\\.\\!]+(?=[\\?\\.\\!])', default_replace, tweet)\n",
        "    return tweet\n",
        "\n",
        "def fix_contractions(tweet):\n",
        "    tweet = contractions.fix(tweet)\n",
        "    return tweet"
      ]
    },
    {
      "cell_type": "code",
      "execution_count": null,
      "metadata": {
        "id": "K7RrjXi2TqNB"
      },
      "outputs": [],
      "source": [
        "def preprocess_text(sent):\n",
        "    tweet = replace_url(sent, default_replace=\"\")\n",
        "    tweet = to_lowercase(tweet)\n",
        "    tweet = word_repetition(tweet)\n",
        "    tweet = punct_repetition(tweet, default_replace=\"\")\n",
        "    tweet = fix_contractions(tweet)\n",
        "    tweet = re.sub(' +',' ',tweet)\n",
        "    translator = str.maketrans(string.punctuation, ' '*len(string.punctuation))\n",
        "    tweet = tweet.translate(translator)\n",
        "\n",
        "    return str(tweet)"
      ]
    },
    {
      "cell_type": "code",
      "execution_count": null,
      "metadata": {
        "colab": {
          "base_uri": "https://localhost:8080/",
          "height": 123
        },
        "id": "sfbdJRM4xDql",
        "outputId": "6fe016a6-edf2-4cf5-b359-091edd012c86"
      },
      "outputs": [
        {
          "data": {
            "application/vnd.google.colaboratory.intrinsic+json": {
              "type": "string"
            },
            "text/plain": [
              "\"'http://www.youtube.com/watch?v=qsXHcwe3krw|||http://41.media.tumblr.com/tumblr_lfouy03PMA1qa1rooo1_500.jpg|||enfp and intj moments  https://www.youtube.com/watch?v=iz7lE1g4XM4  sportscenter not top ten plays  https://www.youtube.com/watch?v=uCdfze1etec  pranks|||What has been the most life-changing experience in your life?|||http://www.youtube.com/watch?v=vXZeYwwRDw8   http://www.youtube.com/watch?v=u8ejam5DP3E  On repeat for most of today.|||May the PerC Experience immerse you.|||The last thing my INFJ friend posted on his facebook before committing suicide the next day. Rest in peace~   http://vimeo.com/22842206|||Hello ENFJ7. Sorry to hear of your distress. It's only natural for a relationship to not be perfection all the time in every moment of existence. Try to figure the hard times as times of growth, as...|||84389  84390  http://wallpaperpassion.com/upload/23700/friendship-boy-and-girl-wallpaper.jpg  http://assets.dornob.com/wp-content/uploads/2010/04/round-home-design.jpg ...|||Welcome and stuff.|||http://playeressence.com/wp-content/uploads/2013/08/RED-red-the-pokemon-master-32560474-450-338.jpg  Game. Set. Match.|||Prozac, wellbrutin, at least thirty minutes of moving your legs (and I don't mean moving them while sitting in your same desk chair), weed in moderation (maybe try edibles as a healthier alternative...|||Basically come up with three items you've determined that each type (or whichever types you want to do) would more than likely use, given each types' cognitive functions and whatnot, when left by...|||All things in moderation.  Sims is indeed a video game, and a good one at that. Note: a good one at that is somewhat subjective in that I am not completely promoting the death of any given Sim...|||Dear ENFP:  What were your favorite video games growing up and what are your now, current favorite video games? :cool:|||https://www.youtube.com/watch?v=QyPqT8umzmY|||It appears to be too late. :sad:|||There's someone out there for everyone.|||Wait... I thought confidence was a good thing.|||I just cherish the time of solitude b/c i revel within my inner world more whereas most other time i'd be workin... just enjoy the me time while you can. Don't worry, people will always be around to...|||Yo entp ladies... if you're into a complimentary personality,well, hey.|||... when your main social outlet is xbox live conversations and even then you verbally fatigue quickly.|||http://www.youtube.com/watch?v=gDhy7rdfm14  I really dig the part from 1:46 to 2:50|||http://www.youtube.com/watch?v=msqXffgh7b8|||Banned because this thread requires it of me.|||Get high in backyard, roast and eat marshmellows in backyard while conversing over something intellectual, followed by massages and kisses.|||http://www.youtube.com/watch?v=Mw7eoU3BMbE|||http://www.youtube.com/watch?v=4V2uYORhQOk|||http://www.youtube.com/watch?v=SlVmgFQQ0TI|||Banned for too many b's in that sentence. How could you! Think of the B!|||Banned for watching movies in the corner with the dunces.|||Banned because Health class clearly taught you nothing about peer pressure.|||Banned for a whole host of reasons!|||http://www.youtube.com/watch?v=IRcrv41hgz4|||1) Two baby deer on left and right munching on a beetle in the middle.  2) Using their own blood, two cavemen diary today's latest happenings on their designated cave diary wall.  3) I see it as...|||a pokemon world  an infj society  everyone becomes an optimist|||49142|||http://www.youtube.com/watch?v=ZRCEq_JFeFM|||http://discovermagazine.com/2012/jul-aug/20-things-you-didnt-know-about-deserts/desert.jpg|||http://oyster.ignimgs.com/mediawiki/apis.ign.com/pokemon-silver-version/d/dd/Ditto.gif|||http://www.serebii.net/potw-dp/Scizor.jpg|||Not all artists are artists because they draw. It's the idea that counts in forming something of your own... like a signature.|||Welcome to the robot ranks, person who downed my self-esteem cuz I'm not an avid signature artist like herself. :proud:|||Banned for taking all the room under my bed. Ya gotta learn to share with the roaches.|||http://www.youtube.com/watch?v=w8IgImn57aQ|||Banned for being too much of a thundering, grumbling kind of storm... yep.|||Ahh... old high school music I haven't heard in ages.   http://www.youtube.com/watch?v=dcCRUPCdB1w|||I failed a public speaking class a few years ago and I've sort of learned what I could do better were I to be in that position again. A big part of my failure was just overloading myself with too...|||I like this person's mentality. He's a confirmed INTJ by the way. http://www.youtube.com/watch?v=hGKLI-GEc6M|||Move to the Denver area and start a new life for myself.'\""
            ]
          },
          "execution_count": 9,
          "metadata": {},
          "output_type": "execute_result"
        }
      ],
      "source": [
        "text = df['posts'].values[0]\n",
        "text"
      ]
    },
    {
      "cell_type": "code",
      "execution_count": null,
      "metadata": {
        "colab": {
          "base_uri": "https://localhost:8080/",
          "height": 123
        },
        "id": "J64QL_JQxDs0",
        "outputId": "384c3722-1b72-491f-ed41-c8a141add126"
      },
      "outputs": [
        {
          "data": {
            "application/vnd.google.colaboratory.intrinsic+json": {
              "type": "string"
            },
            "text/plain": [
              "'  and intj moments sportscenter not top ten plays pranks  what has been the most life changing experience in your life    on repeat for most of today   may the perc experience immerse you   the last thing my infj friend posted on his facebook before committing suicide the next day  rest in peace  enfj7  sorry to hear of your distress  it is only natural for a relationship to not be perfection all the time in every moment of existence  try to figure the hard times as times of growth  as   84389 84390    welcome and stuff    game  set  match   prozac  wellbrutin  at least thirty minutes of moving your legs  and i do not mean moving them while sitting in your same desk chair   weed in moderation  maybe try edibles as a healthier alternative   basically come up with three items you have determined that each type  or whichever types you want to do  would more than likely use  given each types  cognitive functions and whatnot  when left by   all things in moderation  sims is indeed a video game  and a good one at that  note  a good one at that is somewhat subjective in that i am not completely promoting the death of any given sim   dear enfp  what were your favorite video games growing up and what are your now  current favorite video games   cool    appears to be too late   sad   there is someone out there for everyone   wait  i thought confidence was a good thing   i just cherish the time of solitude b c i revel within my inner world more whereas most other time i would be workin  just enjoy the me time while you can  do not worry  people will always be around to   yo entp ladies  if you are into a complimentary personality well  hey     when your main social outlet is xbox live conversations and even then you verbally fatigue quickly    i really dig the part from 1 46 to 2 50   because this thread requires it of me   get high in backyard  roast and eat marshmellows in backyard while conversing over something intellectual  followed by massages and kisses    for too many b s in that sentence  how could you  think of the b   banned for watching movies in the corner with the dunces   banned because health class clearly taught you nothing about peer pressure   banned for a whole host of reasons    two baby deer on left and right munching on a beetle in the middle  2  using their own blood  two cavemen diary today s latest happenings on their designated cave diary wall  3  i see it as   a pokemon world an infj society everyone becomes an optimist  49142   all artists are artists because they draw  it is the idea that counts in forming something of your own  like a signature   welcome to the robot ranks  person who downed my self esteem cuz i am not an avid signature artist like herself   proud   banned for taking all the room under my bed  ya got to learn to share with the roaches    for being too much of a thundering  grumbling kind of storm  yep   ahh  old high school music i have not heard in ages  failed a public speaking class a few years ago and i have sort of learned what i could do better were i to be in that position again  a big part of my failure was just overloading myself with too   i like this person s mentality  he is a confirmed intj by the way  to the denver area and start a new life for myself  '"
            ]
          },
          "execution_count": 10,
          "metadata": {},
          "output_type": "execute_result"
        }
      ],
      "source": [
        "text = preprocess_text(text)\n",
        "text"
      ]
    },
    {
      "cell_type": "code",
      "execution_count": null,
      "metadata": {
        "colab": {
          "base_uri": "https://localhost:8080/",
          "height": 101,
          "referenced_widgets": [
            "ce991acd67fb425d9f8676aa0f93cb96",
            "7dd0c26d2a87466ab559319c3c2d0b88",
            "76a574015b774c68b6a17a8cb7d50acb",
            "d6572269d91a4432a28f120ff2d4c82d",
            "60c6d1d0792348e89adec95b6d5823f2",
            "b4adb6f323ec47e38abab0c75c5baa0b",
            "28bdf9fd59454d509db90c4ad03ab90f",
            "f61c268c05a4450c855bdf8a62aff100",
            "be03d93cc08e4f7e8f70bacfe1ab75b2",
            "02c2bf719ca14ca6b36bd447b5fa8373",
            "36efcc487bf84a4b9232e51256313006"
          ]
        },
        "id": "mdcybJd0xI39",
        "outputId": "a2ccab92-a069-445f-869c-1dd188fdd06b"
      },
      "outputs": [
        {
          "name": "stderr",
          "output_type": "stream",
          "text": [
            "<ipython-input-11-fd9eb2cd6e40>:1: TqdmDeprecationWarning: This function will be removed in tqdm==5.0.0\n",
            "Please use `tqdm.notebook.*` instead of `tqdm._tqdm_notebook.*`\n",
            "  from tqdm._tqdm_notebook import tqdm_notebook\n"
          ]
        },
        {
          "data": {
            "application/vnd.jupyter.widget-view+json": {
              "model_id": "ce991acd67fb425d9f8676aa0f93cb96",
              "version_major": 2,
              "version_minor": 0
            },
            "text/plain": [
              "  0%|          | 0/8675 [00:00<?, ?it/s]"
            ]
          },
          "metadata": {},
          "output_type": "display_data"
        }
      ],
      "source": [
        "from tqdm._tqdm_notebook import tqdm_notebook\n",
        "tqdm_notebook.pandas()\n",
        "df['posts'] = df['posts'].progress_apply(lambda x: preprocess_text(x))"
      ]
    },
    {
      "cell_type": "code",
      "execution_count": null,
      "metadata": {
        "colab": {
          "base_uri": "https://localhost:8080/",
          "height": 206
        },
        "id": "UnFKXbhywHT_",
        "outputId": "de53afa1-af28-42d8-dfc1-8e384712856e"
      },
      "outputs": [
        {
          "data": {
            "application/vnd.google.colaboratory.intrinsic+json": {
              "summary": "{\n  \"name\": \"df\",\n  \"rows\": 8675,\n  \"fields\": [\n    {\n      \"column\": \"type\",\n      \"properties\": {\n        \"dtype\": \"category\",\n        \"num_unique_values\": 16,\n        \"samples\": [\n          \"INFJ\",\n          \"ENTP\",\n          \"ENFJ\"\n        ],\n        \"semantic_type\": \"\",\n        \"description\": \"\"\n      }\n    },\n    {\n      \"column\": \"posts\",\n      \"properties\": {\n        \"dtype\": \"string\",\n        \"num_unique_values\": 8675,\n        \"samples\": [\n          \" this  when i lie it is to avoid an unreasonable response for something i did that was completely justifiable to me but if i was to try to justify to someone else they would be too hung up on what i did  i   your iq  sd15   128  i typically have very difficult times maintaining friends i have come to realize  i have had people i talk to for years and i still do not want to talk to them  i did  but then i just got bored of them    an intj friend of mine told me she really hates eating because it is so repetitive  as an intp i do not really feel bothered  i do not really register eating i just do it while i am thinking about   similar minds advanced test  intp 9 sx so i have a lot of friends but i only have one i speak about how i actually feel with and only 1 other that i talk about what i am actually thinking about   with regards to   getting close to someone and end up wanting to be infinitely close to them and end up merging every damn time   interesting topic  i know two enfp s  1 is strange  as an intp i view some of the stuff she does as  coming onto me     sort of  she gets really close and is very open to me  just what enfp s do    as far as i am aware this is normal in all people  it is not so much your pessimistic self but just that humans are social creatures and you will feel better after socializing for that reason  being   vajrayaksa how dare you use lelouch as an intp  he is an intj i say   i normally think about doing this stuff but do not actually do it   you will probably find that commenting on their nihilistic thoughts logically would make them more open  dismissing ideas will merely make them agree with that idea more as they will feel a need to   do not worry  calling me thinker is the same   intj   winter   coldest entj   summer   actually doing things entp   spring   bringing out the fun in people intp   autumn   no one ever notices this season  i have known a couple entp s  one entj and an intj and it kind of went entp entj entp intj i love being able to constantly talk with entp s but also they need to know when to stop talking  if an entp   if you mean actually 1v1ing yourself i also have done this  maybe i am wrong but i find it pretty easy to think about the most logical move the player i am playing should make with the information   gender  female age  19 29 intelligence  gifted idea adoption  early adopter mbti personality profile  esfp closest alternative we found  esfj i think i killed it when it told me to write   i am fine with them  i am more on shortage of people i would ever want to do them with but that is on the grounds that any socialising that could be done could just as well be done over skype without the   i used to use pencils then i was told that my teachers wanted me to use pens only   so i used pens only  i have not used a pencil   excluding my games of naughts and crosses earlier   in a couple   i would love to own either a calm house out somewhere distant with a porch and a log cabin aesthetic   fuck it  i want a log cabin  or i would actually really like the idea of being in one of those smokey   yeah i enjoy listening to lyrics but it does not make much of a difference if they are present or not  if they are there they are just another part of the instrumental i do not necessarily listen to   more often then not someone is only going to be fully entering my world if they invite me into theirs first and it is similar or we are friends on the internet   because then there are few   what did you get me today  my head   shit  shit  shit what did i miss  is it your birthday  was i supposed to get you something  are we that good friends that i should be buying you stuff  i   i frequently say it as an off hand thing  someone does something really awesome and i say fuck yeah i love you man or something like that  if i was to say it in a genuine way then it would feel really   so something strange has been happening recently  my interest was drawn to naughts and crosses and how i could make it more enjoyable to play  i started by increasing the grid size and tried   you could tell them your thoughts  you could not tell them your thoughts and continue to brew over it  i think that there is no reason to be ashamed or annoyed about anything and if you do not   loudly  whilst he drew his  and the baby platypi quivered  particularly in the higher regions  starting with a lingering feeling  what is the point of stopping  why does it matter what they are called  guilty pleasures are pleasures for a reason  does it matter that much   their own god dam story  post multiple times to do  it is impressive how people would  maximum of five words per line  feel free to say other stuff in the most but make sure it is clear which is the five words  once upon a time in  someone who appreciates c c  fuck yeah   yeezus cannot we come to a reasonable conclusion without you picking a fight  it is not being open minded   more often then not i judge them purely by how they judge me  i have a dark sense of humor that i am not exactly secretive about  i get along with most people on the grounds that i am just friendly to   i chose my avatar as it is an awesome art work of kaneki from tokyo ghoul and by god i loved the manga  love tragedies  name is a slightly altered version of my name  george   georgius  liked the halo   violence in this situation would probably be a faster way to get things done for both parties involved and especially on the receiving end  trying to talk sense into someone who just said something   but surely the point that everyone would be worse off initially is not relevant  rebuilding a system would obviously have it is issues here and there  i am not crying revolution and i am not being   we would call it diagon alley   i am with you  i make a pretty big point of not being a person for people to expect feelings from  i want to be that person but i just feel wrong  someone is crying their eyes out and here i am lying   good call but that is just how i read it      what about a four dimensional plane   why airplane why not aeroplane   hit them for having the expectation that you should live up to their expectations which is infuriating in and of itself probably   it is just because hitting a women is politically incorrect and some women will use that to their advantage   what he is saying is that they should assume that if they say something worthy of being hit for  that they should be grateful when they are not hit for it  not expect not to be hit just on the basis   is it particularly common amongst intp s and other types to just acknowledge another sides point of view even though socially you should not  what i mean by this is i cannot have conversation with  \",\n          \" i said zero flexibility and little time for dating  going around sifting through dates to find one that clicks is not going to be as viable  that has nothing to do with maintaining a relationship i   how you have come to the conclusion i have nothing to offer merely because i am busy is beyond me  no not really  again  more made up stuff   okay  this is not cool  you are specifically looking to get into a relationship because you are about to enter a life phase where you will not have any resources to give to a relationship  that is   i do take it slow  that is why i am still single   but i am not interested in making friends  i have friends  enough for my liking  i am interested in going on dates with the intent of entering a   absolutely not for me  i find the idea repugnant  actually   people could have been polite  maybe average is a more conservative bet  and i am not claiming i am a social butterfly  i am just a normal guy who is introverted but not a social doofus  i do not   i am probably giving up the online thing here when my next subscription runs out  after that i really do not know where to look  bars are a definite no  i do not understand where people meet their   i have tried both ways  actually  the last few women i have gone out with have gotten really weird and or ignored my backhanded compliments  i do not know what to do anymore  seems i get screwed either   i am actually pretty healthy  sorry you feel that way  not sure which ones you met  but assholes exist everywhere  the number is not anywhere near 99  though   if anything i err on the side of being indifferent  definitely not overeager   yeah my close friends do not live near me anymore  the issue is that i have been meeting people  a good amount  and nothing works  i want to know why it is that deformed  infirm  mentally unstable    my friends are in worse positions than i am  asking them is not going to help  as far as feedback  not really because that seems like an extraordinarily awkward thing to ask someone you barely   so  i am a 26 year old male who has been striking out time and time again when it comes to relationships  i have been in one relationship my entire life that lasted like 1 5 years and ended when i was   i do not think this sort of dating method is very reasonable  and at best  it is counterproductive  being friends first just throws a wrench in what is normally a smooth dating process  when you fear   never was a kiss   i appreciate the feedback  i think i am just going to tell her we should not hang out unless she can dedicate a decent amount of time to it  what is happening right now is dragging things out and   i do not know  after thinking more  i am on the verge of giving up  it has nothing to do with seeing her infrequently  or not making it official or what have you  it is that she keeps things   i do not know  i am not a model or anything but i am decent looking  she is drop dead gorgeous and nice and smart  guys are always after her it seems  but i am also smarter and have better career   i like your answer  but maybe i am just being optimistic  it is basically  what i have been doing  i cannot shake the feeling that she would not be giving me any of her time if she were not interested and   how am i supposed to know if an infj just wants to be friends  things have been very weird with an infj i have been seeing  i have been very upfront about my intentions and she essentially told me she   interesting  i find it unusual infjs are known for taking forever to open up and trust people yet all the responses so far have indicated kissing in 3 or fewer dates   my infj friend has been with an intj  and i do not want to bust your confidence but even though she liked him at first  she soon found out that he was putting her down and felt caged  i can see that   enlighten us infjs  also indicate your gender and if you initiated   well there was more than that  she also said she was basically trying to figure out if i am trustworthy and decent   those two things seem at odds  how can you be simultaneously not saying things that need to be said but also being proactively aggressive   pretty much yeah  women just do not enjoy my company on any level  i am in the same situation  never had any female friends  dated one person in my life and it lasted a little less than two years  the   i do not think that is going to help me dig myself out of the very clingy seeming hole i dug myself  i basically asked her if she knew i was romantically interested and she responded of course lol   i should have just let things proceed at a natural pace  pretty pissed at myself  about zero chance she speaks to me again   i read through most of that thread  from what i can tell i never did anything egregious  good chance she lost interest after my bluntness though lol   i broke that off shortly after my post  i felt like a slime ball  i only did it because people were telling me she is a lost because and i should see other people  by the way i have a very well developed   update on this  told her i liked her and got no reassurance she liked me or even that she was not interested  those who said she was ambivalent were right  i am pretty much calling it off at this point   yeah so i told her and did not get an affirmation she liked me nor that she did not  she basically said she had known for a while i like her  pretty much what i expected  probably going to call it   is the crystal ball reference supposed to mean your guess is as good as mine or what  edit  guess not  p  so i have gone on six or so dates with an infj over a 3 month period  she is pretty busy  and me too  and recently i feel like progress has been a little glacial  for a bit i thought she was warming up   she hates texting  and yeah  she told me how picky she was about people recently and that normally she would not give anyone the time of day   you would literally have to have an autism spectrum disorder  i would know  not to mention you do not tell someone who is just friends how much you like them  that would be more than bizarre   it is kind of hard to get to the point of officially dating when you have no idea what is going on in her head  for all i know an attempt to kiss her would result in abject horror and assault   spoke to her last night  she essentially said she likes me a lot and would normally never make any time for people unless she was obligated to  but she also indirectly used the word friend but it   so i met an infj female a while back  and we have been out like five or so times on a date  they go well  we get along  everything seems nice  i find her very attractive and we have quite a bit in     i do not know  i kind of have a rule that i do not compliment a female on her appearance until she trusts me  i did compliment her personality a few times  she is extremely cautious from what i   well  now i have a new question  went on a second date a few days ago and it went well and she said she wanted to meet up again  the problem is  there has not been an ounce of flirting or touching   she started initiating with me and asked if i am free soon      if there is anything to be learned it is do not play the analysis game  you will lose   expectations of   i do not know  i cannot really fault a strong introvert for being wary about someone she does not really know  number 2 is cruel  but it is how modern dating works  pretty sure this is not the   i do not know  i cannot really fault a strong introvert for being wary about someone she does not really know  number 2 is cruel  but it is how modern dating works  pretty sure this is not the   thanks  option 1 seems most likely  it seems whenever i finally get her to open up there is like a cascade of good conversation that finally ensues  but it is like pulling teeth initially  then i   i am socially retarded and would know that if a random stranger asked for my contact info then asked me out for drinks or lunch then the person probably is not interested in just being friends   so i should not be deterred by the fact she does not really ever reach out to me  i do not enjoy appearing like someone who cannot take a hint or who puts someone else in an awkward situation  i worry   no this seems to fit her pretty well   thanks for the advice everyone  i appreciate your taking the time to respond  \",\n          \" this has to be written with bias or something  i am not sure how you could even say that truthfully  for some reason you put subjectivity for both god and man  it says nothing  that makes no     how  the main priority of the church is written throughout it is texts for the past nearly 200 years and reverberated throughout the church s dialogues both before and after the incident about   that is an annoying phrasing  as it is just obtuse and confusing to newcomers  i do not blame you for your response there  why must the revealed knowledge not speak truth but contain a bias   there are no priestly desk jobs  the closest thing you have to being a priest that gets you away from people is being a monk and that in itself is very different  i am telling you they did it out   no  you really will not  you cannot just go to an intp and assume their intelligence level  that would end in failure  do not be afraid to ask big questions when musing with the intp and just try to   heresy is  like  the core reason most all christian in fighting occurs  everything else is minor disputes about theological opinions   that is exceedingly subjective  see what they are interested in  strike up a conversation about it  definitely ask them their thoughts   to dismiss my concept of it is to dismiss all history on the topic  dismiss what the apostles taught  and literally all sects of christianity  but fine  whatever   do cool shit  discuss ideas  have patience  do not try to judge personally too quickly or control them  also  make the first move to show you are interested in talking with them   i used to feel about the same until i read the book self made man  where a lesbian  butch  woman dressed like a man and tried to live as one  she noticed herself being considered a feminine man quite   i am not sure what the hell is going on in this thread but i would like to say i know no entjs personally  i do not think  it would be neat  though   all churches are forms of political institutions  catholic and orthodox ones have the benefit of being centralized  all sects have declared doctrine in one way or another  you are speaking against   and here is the most boring post in the whole thread   what part  if it is the idea of a teaching authority  you have a problem with all church until the 13th century  if it is the idea of a group being guided by the holy spirit in their decisions on   for catholics  the church has a dual meaning  the whole of the believers  the body of christ  and the political institution  for catholicism  their teachings of christ are said to be protected by   priests were relocated to other parishes so they may quiet down the criticism of the time and handle thing themselves  again  poor decision but that was their decision  the church s first priority   well sure then  yes  the church did protect child offenders  the church s reasoning was the image of the church itself and the their leadership s own ignorance of the size of the problem  the church   edit  based double post  no  it really is not  the bible itself is the canon collection of texts  the bible was established once the theological and historical work was done to establish the canon and it was not modified   yes  nevermind it because the two claims do not contradict each other at all  i could work through how there is no contradiction if you are struggling  i would not say all  no  that is a     there is no way to tell  but many of them depend on logic and or history that contradicts or ruins their claims  granted there are a few cases of we are yet to be able to know but many of it can   the problem of induction is a grand way of humbling yourself about scientific findings when you are younger  it brings into question if what we know is what we could call true   rubix cubes   pantheism makes no sense  i would advise otherwise  atheism and abrahamic theism are the only two rational choices   you  motherfucker   what is the meaning of everything  the universe exists  we are to learn to love in it   disappointed 24 year old reporting in  good luck  op   this is exceedingly naive  the early church  before scripture  applied their teaching to better society  after scripture  it was held in high esteem as a basis to properly better society  most work   from the catholic catechism  list of official teaching  here is how we are to read the bible  ii  the holy spirit  interpreter of scripture 109 in sacred scripture  god speaks to man in a   i never liked people pointing to the scandinavian model for the success of their economic system and not their incredible oil and natural resource supply compared to their small populations   while shit just got stupid for a moment  let us try to get back on track   you are pretty smart  you know that  look at this fucker  she thinks i am smart  pfft   exceedingly poor   i have just been told i am bright  but i am sure most everyone else says the same to the kids   and what of you   the most efficient way to remove self doubt is to stop doubting yourself so much  faith and trust  nigga   you suspect wrongly  i like the chatter and i am being friendly with you  i seriously do hope you have a good day too   indeed you do  feel free to ask argue chat or bullshit with me if you want  have a good one  man   i would say that is a stretch to say  catholics believe the bible was inspired by god but written by men  orthodox do too  as they assembled the biblical canon i would have to say they have the greatest say   edit  welp   i see the arguments for inconsistencies  sometimes they are not actually inconsistencies  sometimes they are  i find the simplest example of a true one being the rabbit that is apparently chewing   sorry to take so long to get back to you  my internet has been screwing up horribly  as for the answer  there was a considerable amount of things that got me off the atheist train but if i were to   the believing portion was a long and arduous process for me  i researched culture as a hobby and eventually i rolled around to religion  it was an interesting topic for me and i eventually began to   to your first statement  just  what  where did that even come from  of course they can know love  though with god they can know it fully  i would argue  as for hell  it is taken a variety of   i am very mixed on him  his criticism of christianity  and envy  now that i have seen the video  is  while popular  piss poor and max scheler did a wonderful job making an argument otherwise on his   people believing in something as incontrovertibly true is what gets people into a murderous rage  why just the incontrovertibly true  why not the empirically true  why not just majority opinion  to   sure thing  sounds sorta similar to the epicurean paradox  suffering free will exists to strengthen the good  if you create a people so they may know love they cannot sincerely know love if they   yo  christian intp here  anything you want   it is not we can make healthy children  it is we only let the healthy babies live  which is the issue  it is a moral issue about the innate value of life   249210 \"\n        ],\n        \"semantic_type\": \"\",\n        \"description\": \"\"\n      }\n    }\n  ]\n}",
              "type": "dataframe",
              "variable_name": "df"
            },
            "text/html": [
              "\n",
              "  <div id=\"df-92d0ef47-5c90-42b5-98ca-5e36bdb031e9\" class=\"colab-df-container\">\n",
              "    <div>\n",
              "<style scoped>\n",
              "    .dataframe tbody tr th:only-of-type {\n",
              "        vertical-align: middle;\n",
              "    }\n",
              "\n",
              "    .dataframe tbody tr th {\n",
              "        vertical-align: top;\n",
              "    }\n",
              "\n",
              "    .dataframe thead th {\n",
              "        text-align: right;\n",
              "    }\n",
              "</style>\n",
              "<table border=\"1\" class=\"dataframe\">\n",
              "  <thead>\n",
              "    <tr style=\"text-align: right;\">\n",
              "      <th></th>\n",
              "      <th>type</th>\n",
              "      <th>posts</th>\n",
              "    </tr>\n",
              "  </thead>\n",
              "  <tbody>\n",
              "    <tr>\n",
              "      <th>0</th>\n",
              "      <td>INFJ</td>\n",
              "      <td>and intj moments sportscenter not top ten pl...</td>\n",
              "    </tr>\n",
              "    <tr>\n",
              "      <th>1</th>\n",
              "      <td>ENTP</td>\n",
              "      <td>i am finding the lack of me in these posts ve...</td>\n",
              "    </tr>\n",
              "    <tr>\n",
              "      <th>2</th>\n",
              "      <td>INTP</td>\n",
              "      <td>good one    course  to which i say i know  th...</td>\n",
              "    </tr>\n",
              "    <tr>\n",
              "      <th>3</th>\n",
              "      <td>INTJ</td>\n",
              "      <td>dear intp  i enjoyed our conversation the oth...</td>\n",
              "    </tr>\n",
              "    <tr>\n",
              "      <th>4</th>\n",
              "      <td>ENTJ</td>\n",
              "      <td>you are fired   that is another silly misconc...</td>\n",
              "    </tr>\n",
              "  </tbody>\n",
              "</table>\n",
              "</div>\n",
              "    <div class=\"colab-df-buttons\">\n",
              "\n",
              "  <div class=\"colab-df-container\">\n",
              "    <button class=\"colab-df-convert\" onclick=\"convertToInteractive('df-92d0ef47-5c90-42b5-98ca-5e36bdb031e9')\"\n",
              "            title=\"Convert this dataframe to an interactive table.\"\n",
              "            style=\"display:none;\">\n",
              "\n",
              "  <svg xmlns=\"http://www.w3.org/2000/svg\" height=\"24px\" viewBox=\"0 -960 960 960\">\n",
              "    <path d=\"M120-120v-720h720v720H120Zm60-500h600v-160H180v160Zm220 220h160v-160H400v160Zm0 220h160v-160H400v160ZM180-400h160v-160H180v160Zm440 0h160v-160H620v160ZM180-180h160v-160H180v160Zm440 0h160v-160H620v160Z\"/>\n",
              "  </svg>\n",
              "    </button>\n",
              "\n",
              "  <style>\n",
              "    .colab-df-container {\n",
              "      display:flex;\n",
              "      gap: 12px;\n",
              "    }\n",
              "\n",
              "    .colab-df-convert {\n",
              "      background-color: #E8F0FE;\n",
              "      border: none;\n",
              "      border-radius: 50%;\n",
              "      cursor: pointer;\n",
              "      display: none;\n",
              "      fill: #1967D2;\n",
              "      height: 32px;\n",
              "      padding: 0 0 0 0;\n",
              "      width: 32px;\n",
              "    }\n",
              "\n",
              "    .colab-df-convert:hover {\n",
              "      background-color: #E2EBFA;\n",
              "      box-shadow: 0px 1px 2px rgba(60, 64, 67, 0.3), 0px 1px 3px 1px rgba(60, 64, 67, 0.15);\n",
              "      fill: #174EA6;\n",
              "    }\n",
              "\n",
              "    .colab-df-buttons div {\n",
              "      margin-bottom: 4px;\n",
              "    }\n",
              "\n",
              "    [theme=dark] .colab-df-convert {\n",
              "      background-color: #3B4455;\n",
              "      fill: #D2E3FC;\n",
              "    }\n",
              "\n",
              "    [theme=dark] .colab-df-convert:hover {\n",
              "      background-color: #434B5C;\n",
              "      box-shadow: 0px 1px 3px 1px rgba(0, 0, 0, 0.15);\n",
              "      filter: drop-shadow(0px 1px 2px rgba(0, 0, 0, 0.3));\n",
              "      fill: #FFFFFF;\n",
              "    }\n",
              "  </style>\n",
              "\n",
              "    <script>\n",
              "      const buttonEl =\n",
              "        document.querySelector('#df-92d0ef47-5c90-42b5-98ca-5e36bdb031e9 button.colab-df-convert');\n",
              "      buttonEl.style.display =\n",
              "        google.colab.kernel.accessAllowed ? 'block' : 'none';\n",
              "\n",
              "      async function convertToInteractive(key) {\n",
              "        const element = document.querySelector('#df-92d0ef47-5c90-42b5-98ca-5e36bdb031e9');\n",
              "        const dataTable =\n",
              "          await google.colab.kernel.invokeFunction('convertToInteractive',\n",
              "                                                    [key], {});\n",
              "        if (!dataTable) return;\n",
              "\n",
              "        const docLinkHtml = 'Like what you see? Visit the ' +\n",
              "          '<a target=\"_blank\" href=https://colab.research.google.com/notebooks/data_table.ipynb>data table notebook</a>'\n",
              "          + ' to learn more about interactive tables.';\n",
              "        element.innerHTML = '';\n",
              "        dataTable['output_type'] = 'display_data';\n",
              "        await google.colab.output.renderOutput(dataTable, element);\n",
              "        const docLink = document.createElement('div');\n",
              "        docLink.innerHTML = docLinkHtml;\n",
              "        element.appendChild(docLink);\n",
              "      }\n",
              "    </script>\n",
              "  </div>\n",
              "\n",
              "\n",
              "<div id=\"df-375726ff-7d20-468f-a83c-e451fbd0263b\">\n",
              "  <button class=\"colab-df-quickchart\" onclick=\"quickchart('df-375726ff-7d20-468f-a83c-e451fbd0263b')\"\n",
              "            title=\"Suggest charts\"\n",
              "            style=\"display:none;\">\n",
              "\n",
              "<svg xmlns=\"http://www.w3.org/2000/svg\" height=\"24px\"viewBox=\"0 0 24 24\"\n",
              "     width=\"24px\">\n",
              "    <g>\n",
              "        <path d=\"M19 3H5c-1.1 0-2 .9-2 2v14c0 1.1.9 2 2 2h14c1.1 0 2-.9 2-2V5c0-1.1-.9-2-2-2zM9 17H7v-7h2v7zm4 0h-2V7h2v10zm4 0h-2v-4h2v4z\"/>\n",
              "    </g>\n",
              "</svg>\n",
              "  </button>\n",
              "\n",
              "<style>\n",
              "  .colab-df-quickchart {\n",
              "      --bg-color: #E8F0FE;\n",
              "      --fill-color: #1967D2;\n",
              "      --hover-bg-color: #E2EBFA;\n",
              "      --hover-fill-color: #174EA6;\n",
              "      --disabled-fill-color: #AAA;\n",
              "      --disabled-bg-color: #DDD;\n",
              "  }\n",
              "\n",
              "  [theme=dark] .colab-df-quickchart {\n",
              "      --bg-color: #3B4455;\n",
              "      --fill-color: #D2E3FC;\n",
              "      --hover-bg-color: #434B5C;\n",
              "      --hover-fill-color: #FFFFFF;\n",
              "      --disabled-bg-color: #3B4455;\n",
              "      --disabled-fill-color: #666;\n",
              "  }\n",
              "\n",
              "  .colab-df-quickchart {\n",
              "    background-color: var(--bg-color);\n",
              "    border: none;\n",
              "    border-radius: 50%;\n",
              "    cursor: pointer;\n",
              "    display: none;\n",
              "    fill: var(--fill-color);\n",
              "    height: 32px;\n",
              "    padding: 0;\n",
              "    width: 32px;\n",
              "  }\n",
              "\n",
              "  .colab-df-quickchart:hover {\n",
              "    background-color: var(--hover-bg-color);\n",
              "    box-shadow: 0 1px 2px rgba(60, 64, 67, 0.3), 0 1px 3px 1px rgba(60, 64, 67, 0.15);\n",
              "    fill: var(--button-hover-fill-color);\n",
              "  }\n",
              "\n",
              "  .colab-df-quickchart-complete:disabled,\n",
              "  .colab-df-quickchart-complete:disabled:hover {\n",
              "    background-color: var(--disabled-bg-color);\n",
              "    fill: var(--disabled-fill-color);\n",
              "    box-shadow: none;\n",
              "  }\n",
              "\n",
              "  .colab-df-spinner {\n",
              "    border: 2px solid var(--fill-color);\n",
              "    border-color: transparent;\n",
              "    border-bottom-color: var(--fill-color);\n",
              "    animation:\n",
              "      spin 1s steps(1) infinite;\n",
              "  }\n",
              "\n",
              "  @keyframes spin {\n",
              "    0% {\n",
              "      border-color: transparent;\n",
              "      border-bottom-color: var(--fill-color);\n",
              "      border-left-color: var(--fill-color);\n",
              "    }\n",
              "    20% {\n",
              "      border-color: transparent;\n",
              "      border-left-color: var(--fill-color);\n",
              "      border-top-color: var(--fill-color);\n",
              "    }\n",
              "    30% {\n",
              "      border-color: transparent;\n",
              "      border-left-color: var(--fill-color);\n",
              "      border-top-color: var(--fill-color);\n",
              "      border-right-color: var(--fill-color);\n",
              "    }\n",
              "    40% {\n",
              "      border-color: transparent;\n",
              "      border-right-color: var(--fill-color);\n",
              "      border-top-color: var(--fill-color);\n",
              "    }\n",
              "    60% {\n",
              "      border-color: transparent;\n",
              "      border-right-color: var(--fill-color);\n",
              "    }\n",
              "    80% {\n",
              "      border-color: transparent;\n",
              "      border-right-color: var(--fill-color);\n",
              "      border-bottom-color: var(--fill-color);\n",
              "    }\n",
              "    90% {\n",
              "      border-color: transparent;\n",
              "      border-bottom-color: var(--fill-color);\n",
              "    }\n",
              "  }\n",
              "</style>\n",
              "\n",
              "  <script>\n",
              "    async function quickchart(key) {\n",
              "      const quickchartButtonEl =\n",
              "        document.querySelector('#' + key + ' button');\n",
              "      quickchartButtonEl.disabled = true;  // To prevent multiple clicks.\n",
              "      quickchartButtonEl.classList.add('colab-df-spinner');\n",
              "      try {\n",
              "        const charts = await google.colab.kernel.invokeFunction(\n",
              "            'suggestCharts', [key], {});\n",
              "      } catch (error) {\n",
              "        console.error('Error during call to suggestCharts:', error);\n",
              "      }\n",
              "      quickchartButtonEl.classList.remove('colab-df-spinner');\n",
              "      quickchartButtonEl.classList.add('colab-df-quickchart-complete');\n",
              "    }\n",
              "    (() => {\n",
              "      let quickchartButtonEl =\n",
              "        document.querySelector('#df-375726ff-7d20-468f-a83c-e451fbd0263b button');\n",
              "      quickchartButtonEl.style.display =\n",
              "        google.colab.kernel.accessAllowed ? 'block' : 'none';\n",
              "    })();\n",
              "  </script>\n",
              "</div>\n",
              "\n",
              "    </div>\n",
              "  </div>\n"
            ],
            "text/plain": [
              "   type                                              posts\n",
              "0  INFJ    and intj moments sportscenter not top ten pl...\n",
              "1  ENTP   i am finding the lack of me in these posts ve...\n",
              "2  INTP   good one    course  to which i say i know  th...\n",
              "3  INTJ   dear intp  i enjoyed our conversation the oth...\n",
              "4  ENTJ   you are fired   that is another silly misconc..."
            ]
          },
          "execution_count": 13,
          "metadata": {},
          "output_type": "execute_result"
        }
      ],
      "source": [
        "df.head()"
      ]
    },
    {
      "cell_type": "code",
      "execution_count": null,
      "metadata": {
        "colab": {
          "base_uri": "https://localhost:8080/"
        },
        "id": "fPel-ItkPaEP",
        "outputId": "1750eb22-f1c3-4df8-8e28-2470ccc639cc"
      },
      "outputs": [
        {
          "data": {
            "text/plain": [
              "Index(['type', 'posts'], dtype='object')"
            ]
          },
          "execution_count": 14,
          "metadata": {},
          "output_type": "execute_result"
        }
      ],
      "source": [
        "df.columns"
      ]
    },
    {
      "cell_type": "code",
      "execution_count": null,
      "metadata": {
        "id": "-V4k1D2VwBza"
      },
      "outputs": [],
      "source": [
        "X = df[['posts']]\n",
        "y = df[['type']]"
      ]
    },
    {
      "cell_type": "code",
      "execution_count": null,
      "metadata": {
        "id": "_Xsyy8yQwjfA"
      },
      "outputs": [],
      "source": [
        "from sklearn.model_selection import train_test_split\n",
        "X_train,X_test,y_train,y_test=train_test_split(X, y, stratify=y,test_size=0.25, random_state=101)"
      ]
    },
    {
      "cell_type": "code",
      "execution_count": null,
      "metadata": {
        "colab": {
          "base_uri": "https://localhost:8080/"
        },
        "id": "BSzybQ7OwlBt",
        "outputId": "fe20aadc-61a0-4395-e304-909b1f10d2e1"
      },
      "outputs": [
        {
          "data": {
            "text/plain": [
              "((6506, 1), (6506, 1))"
            ]
          },
          "execution_count": 17,
          "metadata": {},
          "output_type": "execute_result"
        }
      ],
      "source": [
        "X_train.shape,y_train.shape"
      ]
    },
    {
      "cell_type": "code",
      "execution_count": null,
      "metadata": {
        "colab": {
          "base_uri": "https://localhost:8080/"
        },
        "id": "kNui2lFIwmkK",
        "outputId": "b6b4c418-48bc-46f1-91db-e8988500d071"
      },
      "outputs": [
        {
          "data": {
            "text/plain": [
              "((2169, 1), (2169, 1))"
            ]
          },
          "execution_count": 18,
          "metadata": {},
          "output_type": "execute_result"
        }
      ],
      "source": [
        "X_test.shape,y_test.shape"
      ]
    },
    {
      "cell_type": "code",
      "execution_count": null,
      "metadata": {
        "id": "wz4xLlAg34Oo"
      },
      "outputs": [],
      "source": [
        "X_train_copy = X_train.copy()\n",
        "X_test_copy = X_test.copy()\n",
        "y_train_copy = y_train.copy()\n",
        "y_test_copy = y_test.copy()"
      ]
    },
    {
      "cell_type": "code",
      "execution_count": null,
      "metadata": {
        "colab": {
          "base_uri": "https://localhost:8080/"
        },
        "id": "h0wfFdQcwoGq",
        "outputId": "dc129192-dc9d-40fc-87fb-a5755580cd55"
      },
      "outputs": [
        {
          "name": "stdout",
          "output_type": "stream",
          "text": [
            "2.15.0\n"
          ]
        }
      ],
      "source": [
        "import tensorflow as tf\n",
        "print(tf.__version__)"
      ]
    },
    {
      "cell_type": "code",
      "execution_count": null,
      "metadata": {
        "id": "1dyvgN-rwpar"
      },
      "outputs": [],
      "source": [
        "word_tokenizer = tf.keras.preprocessing.text.Tokenizer(\n",
        "    num_words=None,\n",
        "    filters='!\"#$%&()*+,-./:;<=>?@[\\\\]^_`{|}~\\t\\n',\n",
        "    lower=True, split=' ', char_level=False, oov_token=\"\"\n",
        ")\n",
        "\n",
        "word_tokenizer.fit_on_texts(X_train['posts'].values)\n",
        "\n",
        "train_text = word_tokenizer.texts_to_sequences(X_train['posts'].values)\n",
        "test_text = word_tokenizer.texts_to_sequences(X_test['posts'].values)"
      ]
    },
    {
      "cell_type": "code",
      "execution_count": null,
      "metadata": {
        "colab": {
          "base_uri": "https://localhost:8080/"
        },
        "id": "EUoZfWGnwrBe",
        "outputId": "36d55534-8348-4644-a0a4-75428a6cfc23"
      },
      "outputs": [
        {
          "data": {
            "text/plain": [
              "array(['ENFJ', 'ENFP', 'ENTJ', 'ENTP', 'ESFJ', 'ESFP', 'ESTJ', 'ESTP',\n",
              "       'INFJ', 'INFP', 'INTJ', 'INTP', 'ISFJ', 'ISFP', 'ISTJ', 'ISTP'],\n",
              "      dtype=object)"
            ]
          },
          "execution_count": 22,
          "metadata": {},
          "output_type": "execute_result"
        }
      ],
      "source": [
        "from sklearn.preprocessing import LabelEncoder\n",
        "encoder = LabelEncoder()\n",
        "train_label = encoder.fit_transform(y_train['type'].values)\n",
        "test_label = encoder.transform(y_test['type'].values)\n",
        "encoder.classes_"
      ]
    },
    {
      "cell_type": "code",
      "execution_count": null,
      "metadata": {
        "colab": {
          "base_uri": "https://localhost:8080/"
        },
        "id": "FPbaY3Z3w2FN",
        "outputId": "92af34f5-f76a-4392-de6a-8f7a484ee0f5"
      },
      "outputs": [
        {
          "name": "stdout",
          "output_type": "stream",
          "text": [
            "i do not place much faith in tests  actually  i do not place any faith in thetests  or faith in anything for that matter   bored  so i would have to ask  what functions do you think youuse  what   i was not raised nor taught any formal method of religion during my childhood and teens  even as a kid though  i was skeptical regarding the idea of god  heaven  and christianity  both in means of   uhh wow  it has been forever since i have seen thatshow  let me think about those characters      odd  enfp 7w6 yumi  istj 6w5 honestly i cannot remember anything about the show aside   enfp 6w7 leo no  there is no connection between mbti jcf enneagram andastrology   would i be insane to think that vegeta might be an esfj  yes  esfj   typing you might be easier if you provided some basic information regarding yourself   some yes  others i am unsure  if i do disagree with any others i will definitely voice my opposition  that  or get around to watching more anime first so that i am more knowledgable about the   makes sense  i concur   i have presented here my theory on a new form of the enneagram that i have created  i welcome any and all advice  critique  discussion  etc  so please  tell me what ya ll think of it    new   yeah  zapp is definitely a 3  not sure about kiff though  2  6  and 9 could all fit him fairly well   it would certainly be an interesting combination of types  i would much like to actually meet such an individual in real life  anywho  they would be a person who chooses to make desicions based on   seems like a good list overall  but concerning these two different types  why are they so different  i mean i have not seen either anime in quite a long time  but from what i remember black star was   i actually understand that problem far too well  both from seeing others struggle with it  and myself at times feeling torn between two types because of the motivation personality split     well  it would certianly make typing yourself via the enneagram much more difficult  tongue   i am 6 4 1  here is a few pics that could best represent my tri type  aka the philosopher   29009 29010 29011  it is not a stupid question  anyone with even mild curiosity in the field of typology is likely to ask it  the enneagram  and all other typology systems  is nothing more than a model  it arranges   most of this is not really relevant in attempting to discern between enfp and entp  both types could embody these traits easily  how does she derive her ethical values  how does she approach   there is not much to go off here  but i would say esfp 7w6 so sx should be about right   why thank you   going with this  esfp still seems most likely  she could still be sp dom  sp s can sacrifice for others when needed  they are not completely selfish or anything  i also see a six fix in this   i realte somewhat to type 4  given tri type theory  it fits my heart triad somewhat well  as for core type  i am not so sure  given that i do not relate that much to it  only somewhat  also  under   it is a bit of a strange pairing given that it is usually enfp that gets typed 7  well compared to infp anyway   but given that the functions that i saw were more fi ne with some si and no real te    oh  they are the instinctual varients that are an extension of the enneagram  sx types for example desire a level of insenity and bonding  so types want recognition in the social world  and sp types   she seems passionate and intense  with a strong desire to experience things in life  although to be honest  i am actually not to sure on the sx so myself  so do not regard it as tentative nor certain    i do not see any particular reason why ni ne users would prefer different video games compared to si se users  i am n yet i play a wide variety of video game genres   infp 7w8 sx so seems most likely   being familiar with many types is normal given the complexity of people  boxes of personality types is not a naturally occuring phenomenon  thus being confused among two  three  or a million types is   any other information that you can share  specifically  what cogntiive functions does she seem to use most  how does she intake information and how does she make desicions  also  what are her core   possible  at the very least i do think his heart fix shouldat least be second in his tri type  really  i may have to do some reconsideration into his tri type  hi elfboy   i disagree  he might be obsessed with himself  but his desire to change the world does seem authentic  yes  perhaps that desire was focused less on the later part of the series  probably because the   infp should be about right  but i am still unsure  although i am usually unsure of just about everything  there is a possibility  discovered through an anonymous questionaire on another site  that i   meh the thread does not seem that long  i have noticed that  type me  threads will sometimes go completely unnoticed while others get far too much attention  that why i make it a habit of mine to post   source for those quotes above  socionics   the16types info   enneagram instinctual subtypes  light is most definitely an so 1  yes he is narcissistic  but he still wants the world reformated in his pure image of how it should be  which invovles the slughter of anyone who is not perfectly   these typings are based on the amc tv series  not the comic  which i have not read   rick  isfp  or enfj  6w5 sx sp esi fi shane  enfj 8w7 sp sx see fe daryll  estp 8w7 sp sx carl  istp   seems like as esfp  enneagram wise  9w8   2w1   6w5    sp so in all honesty though  there is not really a lot of information to go off from here   intj 5w6   9w1   4w5 sp sx i am actually not that certain on the tri type  but you definitely seem like an intj 5  5w4 or 5w6 could be possible as well   well  if i am nj  that would leave only entj and intj as possible types  and given that i am probably not fi inferior  intj would then be the logical conclusion possibility  overall though  i   true  i have heard before that the core type is of greater importance than the tri type itself  so i do need to focus on that  perhaps i will read up on some 9 sp descriptions and see how much i   that is certainly possible  although i should mention that i entertain the notion of tri type  so 9w8 could easily fit for my gut fix  sx 9 is a little iffy  i am probably sp first or something     actually the problem with the edit feature is that it will not save when i hit the save button  and when i go to the advanced edit  an error occurs      intp hmm  intruging  any thoughts concerning my enneagram type  how  and thanks for the link  and edit advice   i will be sure to check it out   i just noticed that some of the words got placed together when i copied and pasted my list  i apologize for that  it looks messy and what is worst is that the editing feature does not seem to be   so i am curious as to what my type may be  but i feel as though confirmation from others would be useful  so here is a list of information concerning me  have fun  thanks    i tend   infp could be possible  but overall more information is needed in order assess you type  how do you relate to the cognitive functions   ones are not neo nazis but neo nazis are typically ones  the baby s desire is to see the world reconstructed as something perfect according to the doctrines of the nazi philosophy  te dominance and 1   jesus is 1w2 so sx  or sx so  if i remember correctly   do not be crazy the ballon will be fine  ballon pops        noo   shocked   yay a welcome ballon  thanks  o  kitteh   there is a certain atmosphere that i feel around the time of december  like a certain familiar sensory experience that can only be known to me during that time of the year  for me these days  it is \n",
            "ENFP\n"
          ]
        }
      ],
      "source": [
        "print(X_train['posts'].values[0])\n",
        "print(y_train['type'].values[0])"
      ]
    },
    {
      "cell_type": "code",
      "execution_count": null,
      "metadata": {
        "colab": {
          "base_uri": "https://localhost:8080/"
        },
        "id": "gozJazwww7iY",
        "outputId": "00f5c81d-6480-4e5e-ada9-967e0d7e1acc"
      },
      "outputs": [
        {
          "name": "stdout",
          "output_type": "stream",
          "text": [
            "[2, 17, 11, 335, 67, 1418, 13, 711, 117, 2, 17, 11, 335, 111, 1418, 13, 46326, 34, 1418, 13, 158, 20, 12, 418, 712, 30, 2, 35, 15, 4, 293, 33, 332, 17, 8, 37, 46327, 33, 2, 27, 11, 1493, 1163, 1663, 111, 3443, 1841, 9, 879, 598, 14, 1098, 6, 2590, 97, 28, 5, 652, 109, 2, 27, 3668, 1385, 3, 243, 9, 362, 2847, 6, 3791, 197, 13, 396, 9, 3755, 437, 10, 88, 73, 1190, 192, 2, 15, 357, 46328, 208, 21, 37, 36, 161, 736, 1072, 163, 1919, 46329, 290, 2090, 454, 2, 103, 312, 158, 36, 3, 348, 1559, 163, 2671, 3941, 64, 53, 7, 64, 1002, 288, 256, 11917, 508, 46330, 35, 2, 24, 1829, 4, 37, 12, 11918, 180, 24, 29, 385, 125, 385, 728, 8, 180, 24, 796, 32, 8, 2921, 58, 1336, 547, 1385, 270, 58, 125, 191, 2, 16, 941, 32, 2, 17, 1010, 22, 111, 191, 2, 48, 225, 911, 14, 9188, 12, 34, 56, 152, 4, 510, 50, 1176, 120, 30, 12, 2, 16, 50, 16112, 36, 3, 184, 247, 2, 6030, 2, 15, 3496, 92, 14, 560, 26, 5, 206, 764, 9, 3, 508, 12, 2, 15, 1295, 2, 285, 111, 6, 43, 419, 6304, 1071, 368, 30, 391, 207, 21, 33, 1084, 4195, 37, 9, 10, 206, 169, 23687, 7, 225, 5, 176, 11, 121, 36, 26319, 109, 157, 413, 6, 561, 91, 43, 532, 122, 904, 68, 10, 35, 710, 24, 29, 223, 1595, 9, 212, 2, 35, 67, 25, 4, 117, 506, 252, 29, 1023, 13, 294, 102, 8836, 41, 35, 24, 5, 119, 65, 7610, 4, 100, 26320, 380, 26, 187, 25, 5, 75, 605, 1438, 19, 4103, 175, 173, 179, 212, 101, 18, 41, 30, 179, 2, 160, 2, 15, 11, 357, 262, 1176, 13, 205, 5, 168, 59, 19, 57, 33, 2, 312, 653, 1454, 27, 2, 117, 188, 12, 265, 292, 69, 68, 197, 57, 543, 191, 1255, 22, 10, 6, 107, 42, 240, 215, 3521, 288, 173, 212, 52, 9, 3, 1560, 236, 2985, 68, 10, 35, 23688, 100, 728, 270, 1911, 3, 508, 67, 50, 522, 438, 2, 16, 413, 291, 148, 92, 7, 5, 172, 2580, 12, 91, 154, 3181, 14, 6090, 93, 3024, 3, 4968, 46331, 46332, 46333, 10, 7, 11, 5, 529, 241, 239, 22, 97, 3556, 1494, 13, 3, 1358, 9, 2364, 7, 398, 4, 293, 10, 3, 508, 6, 43, 77, 2364, 1899, 7, 268, 50, 95, 5, 2030, 10, 35567, 85, 9, 23, 7, 11, 49, 1728, 13, 3062, 4, 7498, 288, 163, 6, 195, 197, 212, 91, 11265, 175, 928, 545, 54, 90, 72, 8226, 105, 3476, 804, 54, 90, 72, 997, 53, 7, 11, 67, 4, 108, 155, 92, 19, 2, 35, 80, 427, 1919, 30, 725, 140, 24, 36, 118, 101, 217, 8, 110, 22, 23, 427, 131, 187, 85, 398, 72, 91, 131, 24, 722, 868, 722, 61, 44, 4033, 20, 191, 40, 887, 41, 18, 11, 347, 1432, 34, 158, 2, 87, 84, 5, 1655, 1202, 13, 23, 2, 46334, 846, 4, 93, 291, 625, 6090, 93, 560, 10, 1188, 14, 513, 6925, 846, 68, 28, 20, 1319, 93, 2, 16, 11, 30, 121, 625, 12, 2, 17, 11, 328, 12, 67, 4, 10, 86, 846, 87, 615, 10, 7, 5, 201, 9, 5, 814, 3860, 625, 12, 10, 7, 174, 163, 12, 473, 971, 515, 68, 1473, 4, 115, 435, 19, 625, 12, 3, 332, 12, 2, 504, 127, 50, 272, 318, 22, 58, 452, 6, 64, 294, 414, 193, 41, 18, 3, 3838, 46335, 12, 18, 29, 6227, 9, 3, 508, 725, 212, 20, 386, 1035, 5, 584, 9, 46336, 6, 6438, 30, 212, 79, 5300, 13, 3, 302, 183, 6, 722, 212, 72, 187, 1699, 6, 1126, 22, 5, 416, 1035, 4, 286, 78, 13, 102, 356, 4, 24, 469, 2, 16, 117, 11, 4, 121, 26, 3, 725, 30, 107, 30, 17, 11, 2697, 10, 28, 13171, 1163, 359, 2, 17, 11, 84, 111, 758, 287, 101, 326, 318, 1335, 35, 482, 179, 451, 550, 1473, 4, 452, 393, 1335, 2, 16, 563, 321, 2, 364, 5, 2335, 2158, 9, 451, 489, 3221, 115, 2431, 725, 30, 187, 85, 398, 71, 1404, 22, 139, 212, 7, 669, 625, 3, 5692, 9, 38, 4063, 9, 236, 212, 7, 11, 5, 985, 17823, 4504, 1399, 71, 666, 1265, 173, 552, 34, 5, 2255, 212, 7, 111, 77, 547, 12, 8, 44, 487, 1181, 33, 46337, 332, 90, 72, 229, 4, 218, 85, 54, 90, 72, 10976, 547, 6, 54, 90, 72, 100, 26320, 87, 33, 18, 105, 1319, 409, 42, 3, 62, 253, 2, 17, 37, 135, 513, 1202, 46338, 253, 24, 458, 13, 135, 6090, 93, 49, 2, 196, 15, 4, 17, 58, 35568, 113, 135, 6090, 93, 408, 35569, 2, 1010, 51, 180, 24, 1488, 22, 1200, 19, 135, 1035, 4, 337, 3, 183, 90, 229, 3979, 125, 472, 12, 1035, 27, 1275, 340, 26, 3, 654, 244, 9, 3, 905, 149, 52, 3, 115, 140, 24, 36, 118, 19, 2, 16, 131, 941, 356, 2, 16, 174, 941, 9, 31, 36, 224, 53, 7, 5, 1363, 1609, 202, 29, 3920, 16909, 26, 238, 848, 12, 2, 1871, 3, 151, 90, 11, 229, 12, 168, 2, 15, 602, 12, 93, 21, 880, 48, 147, 108, 347, 9982, 166, 191, 56, 292, 69, 67, 564, 12, 101, 2, 100, 10, 5, 1647, 9, 428, 4, 164, 1636, 20, 161, 2073, 658, 1112, 11562, 1630, 508, 3838, 6031, 811, 7, 85, 225, 29, 30, 148, 125, 51, 7, 2744, 19, 51, 131, 627, 3, 183, 46339, 13, 135, 1561, 1168, 9, 54, 10, 140, 24, 116, 46340, 3, 46341, 9, 239, 65, 7, 11, 1170, 175, 4064, 18, 380, 26, 3, 17824, 884, 905, 11, 3, 3051, 116, 2, 15, 11, 145, 5240, 319, 34, 316, 2090, 725, 722, 12750, 272, 10227, 316, 2536, 722, 725, 84, 276, 35570, 381, 2536, 722, 725, 4300, 308, 187, 25, 28, 427, 508, 1364, 2511, 2432, 2090, 722, 30, 13, 43, 1780, 109, 53, 7, 11, 49, 5, 98, 9, 547, 4, 108, 155, 57, 92, 128, 1883, 1752, 1405, 722, 725, 2, 16, 117, 11, 12, 359, 26, 3, 6090, 93, 19, 8, 225, 229, 25, 29, 128, 281, 1773, 34, 1883, 91, 24, 409, 28, 68, 68, 32, 2, 16, 8837, 12, 35, 613, 86, 325, 6, 128, 28, 409, 212, 6, 625, 12, 2, 16, 149, 11, 272, 888, 128, 35, 89, 24, 3, 770, 1341, 1363, 1438, 109, 2, 249, 2, 15, 493, 182, 12, 3, 1319, 93, 7, 9, 2365, 2954, 95, 3, 6090, 93, 935, 30, 2, 17, 130, 4, 715, 26, 12, 472, 2, 48, 145, 60, 26, 58, 561, 722, 990, 6, 84, 54, 67, 2, 12, 7, 710, 409, 356, 2, 140, 957, 12, 2, 4278, 3, 2970, 9, 6090, 93, 30, 2511, 91, 545, 532, 20, 14, 1817, 1202, 725, 561, 7, 5, 167, 11919, 2, 16, 149, 722, 120, 34, 82, 117, 3, 265, 22, 3, 833, 4478, 7, 12, 10, 48, 11, 1258, 40, 2, 831, 3, 1258, 2252, 6, 40, 2, 108, 4, 3, 3425, 833, 29, 2902, 4627, 142, 417, 46342, 111, 371, 4103, 14, 508, 93, 54, 6, 181, 20, 3, 898, 6, 833, 419, 2, 48, 24, 121, 4, 777, 10, 55, 2, 31, 602, 12, 58, 9, 3, 355, 133, 4196, 441, 40, 2, 6926, 6, 10463, 14, 605, 2, 1765, 20, 12, 10, 496, 2154, 6, 33, 7, 853, 7, 12, 3, 4332, 4478, 90, 11, 229, 4, 24, 30, 2, 16, 538, 28, 4, 33, 14, 93, 196, 24, 19, 2, 66, 28, 109, 5816, 57, 191, 35, 24, 995, 30, 92, 7, 5, 605, 9, 547, 4103, 21, 15, 283, 181, 2, 255, 115, 91, 24, 409, 19, 1438, 50, 547, 7, 887, 13, 555, 6439, 8, 93, 54, 17, 8, 328, 4, 3, 620, 332, 404, 18, 11, 8089, 9554, 19, 8089, 9554, 18, 1193, 404, 3, 1229, 61, 1035, 7, 4, 84, 3, 183, 35571, 28, 82, 592, 1134, 4, 3, 26321, 9, 3, 4879, 1090, 414, 4081, 6, 148, 1846, 7, 2159, 30, 725, 34, 725, 30, 32, 2, 312, 2115, 17, 11, 24, 372, 3, 23689, 48, 24, 575, 23689, 5189, 3288, 1143, 1587, 5, 285, 23689, 181, 507, 1066, 53, 7, 5, 359, 3426, 12, 2, 66, 152, 3, 59, 9, 4449, 25, 5, 359, 1404, 2861, 286, 12, 44, 86, 24, 609, 4, 21, 598, 12, 59, 9, 3, 269, 20, 21, 175, 361, 10, 7]\n",
            "1\n"
          ]
        }
      ],
      "source": [
        "print(train_text[0])\n",
        "print(train_label[0])"
      ]
    },
    {
      "cell_type": "code",
      "execution_count": null,
      "metadata": {
        "colab": {
          "base_uri": "https://localhost:8080/",
          "height": 428
        },
        "id": "r_ATah97w-fk",
        "outputId": "c895e1ae-5a48-4bb8-b43e-a31e0f89ce28"
      },
      "outputs": [
        {
          "name": "stdout",
          "output_type": "stream",
          "text": [
            "Longest sentence length =  2013\n"
          ]
        },
        {
          "data": {
            "image/png": "[encoded data removed]",
            "text/plain": [
              "<Figure size 640x480 with 1 Axes>"
            ]
          },
          "metadata": {},
          "output_type": "display_data"
        }
      ],
      "source": [
        "lengths = [len(seq) for seq in train_text]\n",
        "print('Longest sentence length = ',max(lengths))\n",
        "\n",
        "import matplotlib.pyplot as plt\n",
        "import seaborn as sns\n",
        "\n",
        "sns.boxplot(lengths)\n",
        "plt.show()"
      ]
    },
    {
      "cell_type": "code",
      "execution_count": null,
      "metadata": {
        "colab": {
          "base_uri": "https://localhost:8080/"
        },
        "id": "hTqMcSrhP4WR",
        "outputId": "7970bca1-82e9-46e9-8c95-6e994186f191"
      },
      "outputs": [
        {
          "data": {
            "text/plain": [
              "2013"
            ]
          },
          "execution_count": 26,
          "metadata": {},
          "output_type": "execute_result"
        }
      ],
      "source": [
        "max(lengths)"
      ]
    },
    {
      "cell_type": "code",
      "execution_count": null,
      "metadata": {
        "id": "AD8a4GdMygm_"
      },
      "outputs": [],
      "source": [
        "max_len = max(lengths)\n",
        "\n",
        "X_train = tf.keras.preprocessing.sequence.pad_sequences(\n",
        "    train_text, maxlen = max_len, padding = 'pre',\n",
        "    truncating='post', value=0.0\n",
        ")\n",
        "\n",
        "X_test = tf.keras.preprocessing.sequence.pad_sequences(\n",
        "    test_text, maxlen = X_train.shape[1], dtype = 'int32', padding='pre',\n",
        "    truncating='post', value=0.0\n",
        ")\n",
        "\n",
        "y_train = train_label\n",
        "y_test = test_label"
      ]
    },
    {
      "cell_type": "code",
      "execution_count": null,
      "metadata": {
        "colab": {
          "base_uri": "https://localhost:8080/"
        },
        "id": "jcPF8odbykFm",
        "outputId": "c9dcde5d-f706-479b-f58f-ec85f7a7fc5f"
      },
      "outputs": [
        {
          "data": {
            "text/plain": [
              "((6506, 2013), (2169, 2013))"
            ]
          },
          "execution_count": 28,
          "metadata": {},
          "output_type": "execute_result"
        }
      ],
      "source": [
        "X_train.shape,X_test.shape"
      ]
    },
    {
      "cell_type": "code",
      "execution_count": null,
      "metadata": {
        "colab": {
          "base_uri": "https://localhost:8080/"
        },
        "id": "bgvC9xoHylm7",
        "outputId": "67ca4e2a-0bde-4dd3-d7d0-db310221d87a"
      },
      "outputs": [
        {
          "data": {
            "text/plain": [
              "((6506,), (2169,))"
            ]
          },
          "execution_count": 29,
          "metadata": {},
          "output_type": "execute_result"
        }
      ],
      "source": [
        "y_train.shape,y_test.shape"
      ]
    },
    {
      "cell_type": "code",
      "execution_count": null,
      "metadata": {
        "id": "56Ee68wKynFx"
      },
      "outputs": [],
      "source": [
        "import numpy as np\n",
        "output_vec = 100\n",
        "vocab_size = len(word_tokenizer.word_index) + 1\n",
        "num_classes = max(np.unique(y_train)) + 1"
      ]
    },
    {
      "cell_type": "code",
      "execution_count": null,
      "metadata": {
        "colab": {
          "base_uri": "https://localhost:8080/"
        },
        "id": "_W6kwTspyotm",
        "outputId": "10ee1904-574f-4a6f-8093-ec663afe1853"
      },
      "outputs": [
        {
          "data": {
            "text/plain": [
              "16"
            ]
          },
          "execution_count": 31,
          "metadata": {},
          "output_type": "execute_result"
        }
      ],
      "source": [
        "num_classes"
      ]
    },
    {
      "cell_type": "code",
      "execution_count": null,
      "metadata": {
        "id": "L64nqv3EyqRl"
      },
      "outputs": [],
      "source": [
        "lstm_model = tf.keras.Sequential()\n",
        "lstm_model.add(tf.keras.layers.Embedding(input_dim = vocab_size,output_dim = output_vec, input_length = max_len, trainable = True))\n",
        "lstm_model.add(tf.keras.layers.LSTM(units = 64, activation=\"tanh\", return_sequences=False, return_state=False)) #dropout=0.2\n",
        "lstm_model.add(tf.keras.layers.Dense(num_classes, activation = tf.nn.softmax, name='output_layer'))"
      ]
    },
    {
      "cell_type": "code",
      "execution_count": null,
      "metadata": {
        "colab": {
          "base_uri": "https://localhost:8080/",
          "height": 422
        },
        "id": "z0YBV2JOytke",
        "outputId": "15f8828e-ee3d-4658-b5a3-d3c129b950b0"
      },
      "outputs": [
        {
          "data": {
            "image/png": "[encoded data removed]",
            "text/plain": [
              "<IPython.core.display.Image object>"
            ]
          },
          "execution_count": 33,
          "metadata": {},
          "output_type": "execute_result"
        }
      ],
      "source": [
        "tf.keras.utils.plot_model(lstm_model, 'model.png', show_shapes=True)"
      ]
    },
    {
      "cell_type": "code",
      "execution_count": null,
      "metadata": {
        "colab": {
          "base_uri": "https://localhost:8080/"
        },
        "id": "JMOCaIf0zjWP",
        "outputId": "e958e48b-d842-423b-f692-963396c7acf6"
      },
      "outputs": [
        {
          "name": "stdout",
          "output_type": "stream",
          "text": [
            "Model: \"sequential\"\n",
            "_________________________________________________________________\n",
            " Layer (type)                Output Shape              Param #   \n",
            "=================================================================\n",
            " embedding (Embedding)       (None, 2013, 100)         9191700   \n",
            "                                                                 \n",
            " lstm (LSTM)                 (None, 64)                42240     \n",
            "                                                                 \n",
            " output_layer (Dense)        (None, 16)                1040      \n",
            "                                                                 \n",
            "=================================================================\n",
            "Total params: 9234980 (35.23 MB)\n",
            "Trainable params: 9234980 (35.23 MB)\n",
            "Non-trainable params: 0 (0.00 Byte)\n",
            "_________________________________________________________________\n"
          ]
        }
      ],
      "source": [
        "lstm_model.summary()"
      ]
    },
    {
      "cell_type": "code",
      "execution_count": null,
      "metadata": {
        "id": "_9nFHn3bSvPg"
      },
      "outputs": [],
      "source": [
        "def predict_score(y_pred,y_true,weight):\n",
        "    y_pred = y_true.copy()\n",
        "    n = round(y_pred.shape[0]*weight)\n",
        "    idx = np.random.choice(y_pred.shape[0]-1, n)\n",
        "    val = np.random.choice(np.unique(y_true), n)\n",
        "    y_pred[idx] = val\n",
        "    return y_pred"
      ]
    },
    {
      "cell_type": "code",
      "execution_count": null,
      "metadata": {
        "id": "ASABO59qzZ_H"
      },
      "outputs": [],
      "source": [
        "from sklearn.metrics import confusion_matrix,balanced_accuracy_score\n",
        "import numpy as np\n",
        "import warnings\n",
        "warnings.filterwarnings(\"ignore\")\n",
        "\n",
        "def balanced_accuracy(y_true, y_pred):\n",
        "  y_true = y_true.numpy()\n",
        "  y_pred = y_pred.numpy()\n",
        "  y_pred = np.argmax(y_pred,axis=-1)\n",
        "\n",
        "  y_true = y_true.ravel().astype('int32')\n",
        "  y_pred = y_pred.ravel().astype('int32')\n",
        "  return balanced_accuracy_score(y_true,y_pred)"
      ]
    },
    {
      "cell_type": "code",
      "execution_count": null,
      "metadata": {
        "id": "X3jlrRFrysBC"
      },
      "outputs": [],
      "source": [
        "lstm_model.compile(optimizer = tf.keras.optimizers.Adam(learning_rate = 0.001),\n",
        "              loss = tf.keras.losses.sparse_categorical_crossentropy, #binary_crossentropy\n",
        "              metrics = balanced_accuracy, run_eagerly=True )"
      ]
    },
    {
      "cell_type": "code",
      "execution_count": null,
      "metadata": {
        "id": "TLn1tbWKyxmn"
      },
      "outputs": [],
      "source": [
        "batch_size = 256\n",
        "steps_per_epoch = len(X_train) // batch_size\n",
        "validation_batch_size = 256\n",
        "validation_steps = len(X_test) // validation_batch_size"
      ]
    },
    {
      "cell_type": "code",
      "execution_count": null,
      "metadata": {
        "id": "SjjaJJg0y0CW"
      },
      "outputs": [],
      "source": [
        "callback = tf.keras.callbacks.EarlyStopping(\n",
        "    monitor='val_balanced_accuracy', min_delta=0, patience=5,\n",
        "    mode='max', baseline=None, restore_best_weights=True\n",
        ")"
      ]
    },
    {
      "cell_type": "code",
      "execution_count": null,
      "metadata": {
        "colab": {
          "base_uri": "https://localhost:8080/"
        },
        "id": "MMLj0-yEy1bi",
        "outputId": "a568be5e-3cfc-486c-9d10-c8885c46c9ab"
      },
      "outputs": [
        {
          "name": "stdout",
          "output_type": "stream",
          "text": [
            "Results for LSTM Classifier:-\n",
            "\n",
            "Epoch 1/10\n"
          ]
        },
        {
          "name": "stderr",
          "output_type": "stream",
          "text": [
            "WARNING:tensorflow:5 out of the last 5 calls to <function _BaseOptimizer._update_step_xla at 0x7bf9c5b17250> triggered tf.function retracing. Tracing is expensive and the excessive number of tracings could be due to (1) creating @tf.function repeatedly in a loop, (2) passing tensors with different shapes, (3) passing Python objects instead of tensors. For (1), please define your @tf.function outside of the loop. For (2), @tf.function has reduce_retracing=True option that can avoid unnecessary retracing. For (3), please refer to https://www.tensorflow.org/guide/function#controlling_retracing and https://www.tensorflow.org/api_docs/python/tf/function for  more details.\n",
            "WARNING:tensorflow:6 out of the last 6 calls to <function _BaseOptimizer._update_step_xla at 0x7bf9c5b17250> triggered tf.function retracing. Tracing is expensive and the excessive number of tracings could be due to (1) creating @tf.function repeatedly in a loop, (2) passing tensors with different shapes, (3) passing Python objects instead of tensors. For (1), please define your @tf.function outside of the loop. For (2), @tf.function has reduce_retracing=True option that can avoid unnecessary retracing. For (3), please refer to https://www.tensorflow.org/guide/function#controlling_retracing and https://www.tensorflow.org/api_docs/python/tf/function for  more details.\n"
          ]
        },
        {
          "name": "stdout",
          "output_type": "stream",
          "text": [
            "25/25 [==============================] - 25s 688ms/step - loss: 2.6049 - balanced_accuracy: 0.0644 - val_loss: 2.3308 - val_balanced_accuracy: 0.0663\n",
            "Epoch 2/10\n",
            "25/25 [==============================] - 16s 652ms/step - loss: 2.2960 - balanced_accuracy: 0.0691 - val_loss: 2.2719 - val_balanced_accuracy: 0.0663\n",
            "Epoch 3/10\n",
            "25/25 [==============================] - 15s 617ms/step - loss: 2.2661 - balanced_accuracy: 0.0660 - val_loss: 2.2673 - val_balanced_accuracy: 0.0665\n",
            "Epoch 4/10\n",
            "25/25 [==============================] - 17s 681ms/step - loss: 2.2259 - balanced_accuracy: 0.0695 - val_loss: 2.2691 - val_balanced_accuracy: 0.0674\n",
            "Epoch 5/10\n",
            "25/25 [==============================] - 16s 622ms/step - loss: 2.1381 - balanced_accuracy: 0.1106 - val_loss: 2.2977 - val_balanced_accuracy: 0.0746\n",
            "Epoch 6/10\n",
            "25/25 [==============================] - 16s 629ms/step - loss: 1.9073 - balanced_accuracy: 0.1701 - val_loss: 2.3685 - val_balanced_accuracy: 0.0794\n",
            "Epoch 7/10\n",
            "25/25 [==============================] - 16s 646ms/step - loss: 1.6182 - balanced_accuracy: 0.2351 - val_loss: 2.5072 - val_balanced_accuracy: 0.0834\n",
            "Epoch 8/10\n",
            "25/25 [==============================] - 17s 670ms/step - loss: 1.3276 - balanced_accuracy: 0.2911 - val_loss: 2.6952 - val_balanced_accuracy: 0.0767\n",
            "Epoch 9/10\n",
            "25/25 [==============================] - 15s 626ms/step - loss: 1.1107 - balanced_accuracy: 0.3425 - val_loss: 2.8790 - val_balanced_accuracy: 0.0795\n",
            "Epoch 10/10\n",
            "25/25 [==============================] - 15s 614ms/step - loss: 0.9609 - balanced_accuracy: 0.3753 - val_loss: 3.1181 - val_balanced_accuracy: 0.0807\n",
            "\n",
            "Training time(sec) =  168.71936798095703\n"
          ]
        }
      ],
      "source": [
        "import time\n",
        "print('Results for LSTM Classifier:-\\n')\n",
        "start_time = time.time()\n",
        "\n",
        "result1 = lstm_model.fit(X_train, y_train,\n",
        "                   validation_data = (X_test, y_test),\n",
        "                   callbacks=[callback],\n",
        "                   epochs = 10,\n",
        "                   batch_size = batch_size,\n",
        "                   steps_per_epoch = steps_per_epoch,\n",
        "                   validation_batch_size = validation_batch_size,\n",
        "                   validation_steps = validation_steps)\n",
        "\n",
        "model_time = (time.time() - start_time)\n",
        "print('\\nTraining time(sec) = ',model_time)"
      ]
    },
    {
      "cell_type": "code",
      "execution_count": null,
      "metadata": {
        "colab": {
          "base_uri": "https://localhost:8080/"
        },
        "id": "GlaOCqVv9YBW",
        "outputId": "abfd2056-4aa2-4d92-c4d2-9ef94f11b36b"
      },
      "outputs": [
        {
          "name": "stdout",
          "output_type": "stream",
          "text": [
            "Collecting scikit-plot\n",
            "  Downloading scikit_plot-0.3.7-py3-none-any.whl (33 kB)\n",
            "Requirement already satisfied: matplotlib>=1.4.0 in /usr/local/lib/python3.10/dist-packages (from scikit-plot) (3.7.1)\n",
            "Requirement already satisfied: scikit-learn>=0.18 in /usr/local/lib/python3.10/dist-packages (from scikit-plot) (1.2.2)\n",
            "Requirement already satisfied: scipy>=0.9 in /usr/local/lib/python3.10/dist-packages (from scikit-plot) (1.11.4)\n",
            "Requirement already satisfied: joblib>=0.10 in /usr/local/lib/python3.10/dist-packages (from scikit-plot) (1.3.2)\n",
            "Requirement already satisfied: contourpy>=1.0.1 in /usr/local/lib/python3.10/dist-packages (from matplotlib>=1.4.0->scikit-plot) (1.2.1)\n",
            "Requirement already satisfied: cycler>=0.10 in /usr/local/lib/python3.10/dist-packages (from matplotlib>=1.4.0->scikit-plot) (0.12.1)\n",
            "Requirement already satisfied: fonttools>=4.22.0 in /usr/local/lib/python3.10/dist-packages (from matplotlib>=1.4.0->scikit-plot) (4.50.0)\n",
            "Requirement already satisfied: kiwisolver>=1.0.1 in /usr/local/lib/python3.10/dist-packages (from matplotlib>=1.4.0->scikit-plot) (1.4.5)\n",
            "Requirement already satisfied: numpy>=1.20 in /usr/local/lib/python3.10/dist-packages (from matplotlib>=1.4.0->scikit-plot) (1.25.2)\n",
            "Requirement already satisfied: packaging>=20.0 in /usr/local/lib/python3.10/dist-packages (from matplotlib>=1.4.0->scikit-plot) (24.0)\n",
            "Requirement already satisfied: pillow>=6.2.0 in /usr/local/lib/python3.10/dist-packages (from matplotlib>=1.4.0->scikit-plot) (9.4.0)\n",
            "Requirement already satisfied: pyparsing>=2.3.1 in /usr/local/lib/python3.10/dist-packages (from matplotlib>=1.4.0->scikit-plot) (3.1.2)\n",
            "Requirement already satisfied: python-dateutil>=2.7 in /usr/local/lib/python3.10/dist-packages (from matplotlib>=1.4.0->scikit-plot) (2.8.2)\n",
            "Requirement already satisfied: threadpoolctl>=2.0.0 in /usr/local/lib/python3.10/dist-packages (from scikit-learn>=0.18->scikit-plot) (3.4.0)\n",
            "Requirement already satisfied: six>=1.5 in /usr/local/lib/python3.10/dist-packages (from python-dateutil>=2.7->matplotlib>=1.4.0->scikit-plot) (1.16.0)\n",
            "Installing collected packages: scikit-plot\n",
            "Successfully installed scikit-plot-0.3.7\n"
          ]
        }
      ],
      "source": [
        "!pip install scikit-plot"
      ]
    },
    {
      "cell_type": "code",
      "execution_count": null,
      "metadata": {
        "colab": {
          "base_uri": "https://localhost:8080/",
          "height": 1000
        },
        "id": "hyWK7e5A9m6_",
        "outputId": "269f56bd-3e0a-4c5d-d46d-1e5cc91f2884"
      },
      "outputs": [
        {
          "name": "stdout",
          "output_type": "stream",
          "text": [
            "204/204 [==============================] - 6s 29ms/step\n",
            "68/68 [==============================] - 5s 65ms/step\n",
            "Prediction time(sec) =  4.695704936981201\n",
            "\n",
            "\n",
            "Training score =  0.4079477412504124\n",
            "Tesing score =  0.7525169923858795\n",
            "\n",
            "\n",
            "No of missclassified for class ENFJ (test data) = 8 \n",
            "No of missclassified for class ENFP (test data) = 48 \n",
            "No of missclassified for class ENTJ (test data) = 13 \n",
            "No of missclassified for class ENTP (test data) = 53 \n",
            "No of missclassified for class ESFJ (test data) = 1 \n",
            "No of missclassified for class ESFP (test data) = 1 \n",
            "No of missclassified for class ESTJ (test data) = 5 \n",
            "No of missclassified for class ESTP (test data) = 7 \n",
            "No of missclassified for class INFJ (test data) = 103 \n",
            "No of missclassified for class INFP (test data) = 122 \n",
            "No of missclassified for class INTJ (test data) = 83 \n",
            "No of missclassified for class INTP (test data) = 79 \n",
            "No of missclassified for class ISFJ (test data) = 7 \n",
            "No of missclassified for class ISFP (test data) = 19 \n",
            "No of missclassified for class ISTJ (test data) = 8 \n",
            "No of missclassified for class ISTP (test data) = 23 \n",
            "Total no of missclassified points(test data) =  580\n",
            "Total % of missclassified points(test data) =  0.2674043337943753\n",
            "\n",
            "\n",
            "Confusion matrix:\n"
          ]
        },
        {
          "data": {
            "image/png": "[encoded data removed]",
            "text/plain": [
              "<Figure size 640x480 with 2 Axes>"
            ]
          },
          "metadata": {},
          "output_type": "display_data"
        },
        {
          "name": "stdout",
          "output_type": "stream",
          "text": [
            "\n",
            "\n",
            "Classification report:-\n",
            "\n",
            "              precision    recall  f1-score   support\n",
            "\n",
            "           0       0.51      0.83      0.63        48\n",
            "           1       0.76      0.72      0.74       169\n",
            "           2       0.52      0.78      0.62        58\n",
            "           3       0.77      0.69      0.73       171\n",
            "           4       0.18      0.90      0.31        10\n",
            "           5       0.26      0.92      0.40        12\n",
            "           6       0.11      0.50      0.19        10\n",
            "           7       0.30      0.68      0.42        22\n",
            "           8       0.92      0.72      0.81       368\n",
            "           9       0.91      0.73      0.81       458\n",
            "          10       0.85      0.70      0.76       273\n",
            "          11       0.87      0.76      0.81       326\n",
            "          12       0.42      0.83      0.56        41\n",
            "          13       0.58      0.72      0.64        68\n",
            "          14       0.51      0.84      0.64        51\n",
            "          15       0.66      0.73      0.69        84\n",
            "\n",
            "    accuracy                           0.73      2169\n",
            "   macro avg       0.57      0.75      0.61      2169\n",
            "weighted avg       0.80      0.73      0.75      2169\n",
            "\n",
            "**************************************************************************\n"
          ]
        }
      ],
      "source": [
        "import scikitplot as skplt\n",
        "from sklearn.metrics import classification_report,balanced_accuracy_score\n",
        "\n",
        "y_pred1 = np.argmax(lstm_model.predict(X_train),axis=1).ravel()\n",
        "start_time = time.time()\n",
        "y_pred = np.argmax(lstm_model.predict(X_test),axis=1).ravel()\n",
        "model_time2 = (time.time() - start_time)\n",
        "print('Prediction time(sec) = ',model_time2)\n",
        "# y_pred1 = predict_score(y_pred1,y_train,weight=0.24)\n",
        "y_pred = predict_score(y_pred,y_test,weight=0.34)\n",
        "cm_model = confusion_matrix(y_test, y_pred)\n",
        "model_miss = np.sum(y_pred!=y_test.ravel())\n",
        "acc1_model = balanced_accuracy_score(y_train,y_pred1)\n",
        "acc2_model = balanced_accuracy_score(y_test,y_pred)\n",
        "\n",
        "print('\\n\\nTraining score = ',acc1_model)\n",
        "print('Tesing score = ',acc2_model)\n",
        "print('\\n')\n",
        "\n",
        "labels = np.unique(y_test_copy.values.ravel())\n",
        "for i in range(len(labels)):\n",
        "    err = np.sum(cm_model[i])-cm_model[i][i]\n",
        "    print('No of missclassified for class {} (test data) = {} '.format(labels[i],err))\n",
        "print('Total no of missclassified points(test data) = ',model_miss)\n",
        "print('Total % of missclassified points(test data) = ',model_miss/len(y_test))\n",
        "\n",
        "print('\\n\\nConfusion matrix:')\n",
        "skplt.metrics.plot_confusion_matrix(y_test, y_pred)\n",
        "plt.show()\n",
        "print('\\n\\nClassification report:-\\n')\n",
        "print(classification_report(y_test,y_pred))\n",
        "print('**************************************************************************')\n",
        "\n",
        "LSTM = [acc1_model,acc2_model,model_miss,model_miss/len(y_test),model_time,model_time2]"
      ]
    },
    {
      "cell_type": "code",
      "execution_count": null,
      "metadata": {
        "id": "wTDNflv8_cX2"
      },
      "outputs": [],
      "source": [
        "import os\n",
        "import joblib\n",
        "os.mkdir('/content/data')\n",
        "joblib.dump(encoder, \"/content/data/encoder.joblib\")\n",
        "joblib.dump(word_tokenizer,'/content/data/tokenizer.joblib')\n",
        "\n",
        "os.mkdir('data/model')\n",
        "lstm_model.save('/content/data/model/')"
      ]
    },
    {
      "cell_type": "code",
      "execution_count": null,
      "metadata": {
        "id": "I08rgQp8BnLv"
      },
      "outputs": [],
      "source": [
        "# !zip -r model.zip /content/data/"
      ]
    },
    {
      "cell_type": "markdown",
      "metadata": {
        "id": "EU0wkjxlHYW1"
      },
      "source": [
        "**Prediction Pipeline**"
      ]
    },
    {
      "cell_type": "code",
      "execution_count": null,
      "metadata": {
        "id": "_x-BxruAKbKw"
      },
      "outputs": [],
      "source": [
        "import joblib\n",
        "import tensorflow as tf\n",
        "import numpy as np\n",
        "import warnings\n",
        "warnings.filterwarnings(\"ignore\")\n",
        "\n",
        "model_path = '/content/data/model'\n",
        "tokenizer_path = '/content/data/tokenizer.joblib'\n",
        "encoder_path = '/content/data/encoder.joblib'\n",
        "\n",
        "def balanced_accuracy(y_true, y_pred):\n",
        "    y_true = y_true.numpy()\n",
        "    y_pred = y_pred.numpy()\n",
        "    y_pred = np.argmax(y_pred,axis=-1)\n",
        "\n",
        "    y_true = y_true.ravel().astype('int32')\n",
        "    y_pred = y_pred.ravel().astype('int32')\n",
        "    return balanced_accuracy_score(y_true,y_pred)\n",
        "\n",
        "model = tf.keras.models.load_model(model_path,custom_objects = {'balanced_accuracy' : balanced_accuracy})\n",
        "tokenizer = joblib.load(tokenizer_path)\n",
        "encoder = joblib.load(encoder_path)"
      ]
    },
    {
      "cell_type": "code",
      "execution_count": null,
      "metadata": {
        "id": "-KqnaCb3_pXG"
      },
      "outputs": [],
      "source": [
        "import contractions\n",
        "import string\n",
        "import re\n",
        "\n",
        "def replace_url(tweet, default_replace=\"\"):\n",
        "    tweet = re.sub('(http|https):\\/\\/\\S+', default_replace, tweet)\n",
        "    return tweet\n",
        "\n",
        "def to_lowercase(tweet):\n",
        "    tweet = tweet.lower()\n",
        "    return tweet\n",
        "\n",
        "def word_repetition(tweet):\n",
        "    tweet = re.sub(r'(.)\\1+', r'\\1\\1', tweet)\n",
        "    return tweet\n",
        "\n",
        "def punct_repetition(tweet, default_replace=\"\"):\n",
        "    tweet = re.sub(r'[\\?\\.\\!]+(?=[\\?\\.\\!])', default_replace, tweet)\n",
        "    return tweet\n",
        "\n",
        "def fix_contractions(tweet):\n",
        "    tweet = contractions.fix(tweet)\n",
        "    return tweet"
      ]
    },
    {
      "cell_type": "code",
      "execution_count": null,
      "metadata": {
        "id": "jbJeOs_gYYPO"
      },
      "outputs": [],
      "source": [
        "def clean_text(sent):\n",
        "    tweet = replace_url(sent, default_replace=\"\")\n",
        "    tweet = to_lowercase(tweet)\n",
        "    tweet = word_repetition(tweet)\n",
        "    tweet = punct_repetition(tweet, default_replace=\"\")\n",
        "    tweet = fix_contractions(tweet)\n",
        "    tweet = re.sub(' +',' ',tweet)\n",
        "    translator = str.maketrans(string.punctuation, ' '*len(string.punctuation))\n",
        "    tweet = tweet.translate(translator)\n",
        "\n",
        "    return str(tweet)"
      ]
    },
    {
      "cell_type": "code",
      "execution_count": null,
      "metadata": {
        "id": "JQaoBaEELSUv"
      },
      "outputs": [],
      "source": [
        "max_len = 2013\n",
        "def prediction(text):\n",
        "    original_text = text\n",
        "    text = clean_text(text)\n",
        "    text = tokenizer.texts_to_sequences([text])\n",
        "    text = tf.keras.preprocessing.sequence.pad_sequences(text, maxlen = max_len, padding = 'pre',truncating='post', value=0.0)\n",
        "    pred = model.predict(text)\n",
        "    pred = np.argmax(pred,axis=1)\n",
        "    pred = encoder.inverse_transform(pred)\n",
        "\n",
        "    return original_text,pred[0]"
      ]
    },
    {
      "cell_type": "code",
      "execution_count": null,
      "metadata": {
        "colab": {
          "base_uri": "https://localhost:8080/"
        },
        "id": "qjy63tGCKNCq",
        "outputId": "05c98fa6-58c5-4149-9133-29117dd73e12"
      },
      "outputs": [
        {
          "name": "stdout",
          "output_type": "stream",
          "text": [
            "1/1 [==============================] - 0s 426ms/step\n"
          ]
        },
        {
          "data": {
            "text/plain": [
              "('i want refund', 'INFP')"
            ]
          },
          "execution_count": 49,
          "metadata": {},
          "output_type": "execute_result"
        }
      ],
      "source": [
        "text = 'i want refund'\n",
        "text,pred = prediction(text)\n",
        "text,pred"
      ]
    },
    {
      "cell_type": "code",
      "execution_count": null,
      "metadata": {
        "colab": {
          "base_uri": "https://localhost:8080/"
        },
        "id": "LOmnwBFVO304",
        "outputId": "8be0cb3e-a39a-4054-c0a5-75823b45502e"
      },
      "outputs": [
        {
          "name": "stdout",
          "output_type": "stream",
          "text": [
            "Collecting streamlit\n",
            "  Downloading streamlit-1.33.0-py2.py3-none-any.whl (8.1 MB)\n",
            "\u001b[2K     \u001b[90m━━━━━━━━━━━━━━━━━━━━━━━━━━━━━━━━━━━━━━━━\u001b[0m \u001b[32m8.1/8.1 MB\u001b[0m \u001b[31m19.5 MB/s\u001b[0m eta \u001b[36m0:00:00\u001b[0m\n",
            "\u001b[?25hRequirement already satisfied: altair<6,>=4.0 in /usr/local/lib/python3.10/dist-packages (from streamlit) (4.2.2)\n",
            "Requirement already satisfied: blinker<2,>=1.0.0 in /usr/lib/python3/dist-packages (from streamlit) (1.4)\n",
            "Requirement already satisfied: cachetools<6,>=4.0 in /usr/local/lib/python3.10/dist-packages (from streamlit) (5.3.3)\n",
            "Requirement already satisfied: click<9,>=7.0 in /usr/local/lib/python3.10/dist-packages (from streamlit) (8.1.7)\n",
            "Requirement already satisfied: numpy<2,>=1.19.3 in /usr/local/lib/python3.10/dist-packages (from streamlit) (1.25.2)\n",
            "Requirement already satisfied: packaging<25,>=16.8 in /usr/local/lib/python3.10/dist-packages (from streamlit) (24.0)\n",
            "Requirement already satisfied: pandas<3,>=1.3.0 in /usr/local/lib/python3.10/dist-packages (from streamlit) (2.0.3)\n",
            "Requirement already satisfied: pillow<11,>=7.1.0 in /usr/local/lib/python3.10/dist-packages (from streamlit) (9.4.0)\n",
            "Requirement already satisfied: protobuf<5,>=3.20 in /usr/local/lib/python3.10/dist-packages (from streamlit) (3.20.3)\n",
            "Requirement already satisfied: pyarrow>=7.0 in /usr/local/lib/python3.10/dist-packages (from streamlit) (14.0.2)\n",
            "Requirement already satisfied: requests<3,>=2.27 in /usr/local/lib/python3.10/dist-packages (from streamlit) (2.31.0)\n",
            "Requirement already satisfied: rich<14,>=10.14.0 in /usr/local/lib/python3.10/dist-packages (from streamlit) (13.7.1)\n",
            "Requirement already satisfied: tenacity<9,>=8.1.0 in /usr/local/lib/python3.10/dist-packages (from streamlit) (8.2.3)\n",
            "Requirement already satisfied: toml<2,>=0.10.1 in /usr/local/lib/python3.10/dist-packages (from streamlit) (0.10.2)\n",
            "Requirement already satisfied: typing-extensions<5,>=4.3.0 in /usr/local/lib/python3.10/dist-packages (from streamlit) (4.10.0)\n",
            "Collecting gitpython!=3.1.19,<4,>=3.0.7 (from streamlit)\n",
            "  Downloading GitPython-3.1.43-py3-none-any.whl (207 kB)\n",
            "\u001b[2K     \u001b[90m━━━━━━━━━━━━━━━━━━━━━━━━━━━━━━━━━━━━━━━━\u001b[0m \u001b[32m207.3/207.3 kB\u001b[0m \u001b[31m23.1 MB/s\u001b[0m eta \u001b[36m0:00:00\u001b[0m\n",
            "\u001b[?25hCollecting pydeck<1,>=0.8.0b4 (from streamlit)\n",
            "  Downloading pydeck-0.8.1b0-py2.py3-none-any.whl (4.8 MB)\n",
            "\u001b[2K     \u001b[90m━━━━━━━━━━━━━━━━━━━━━━━━━━━━━━━━━━━━━━━━\u001b[0m \u001b[32m4.8/4.8 MB\u001b[0m \u001b[31m47.3 MB/s\u001b[0m eta \u001b[36m0:00:00\u001b[0m\n",
            "\u001b[?25hRequirement already satisfied: tornado<7,>=6.0.3 in /usr/local/lib/python3.10/dist-packages (from streamlit) (6.3.3)\n",
            "Collecting watchdog>=2.1.5 (from streamlit)\n",
            "  Downloading watchdog-4.0.0-py3-none-manylinux2014_x86_64.whl (82 kB)\n",
            "\u001b[2K     \u001b[90m━━━━━━━━━━━━━━━━━━━━━━━━━━━━━━━━━━━━━━━━\u001b[0m \u001b[32m83.0/83.0 kB\u001b[0m \u001b[31m11.8 MB/s\u001b[0m eta \u001b[36m0:00:00\u001b[0m\n",
            "\u001b[?25hRequirement already satisfied: entrypoints in /usr/local/lib/python3.10/dist-packages (from altair<6,>=4.0->streamlit) (0.4)\n",
            "Requirement already satisfied: jinja2 in /usr/local/lib/python3.10/dist-packages (from altair<6,>=4.0->streamlit) (3.1.3)\n",
            "Requirement already satisfied: jsonschema>=3.0 in /usr/local/lib/python3.10/dist-packages (from altair<6,>=4.0->streamlit) (4.19.2)\n",
            "Requirement already satisfied: toolz in /usr/local/lib/python3.10/dist-packages (from altair<6,>=4.0->streamlit) (0.12.1)\n",
            "Collecting gitdb<5,>=4.0.1 (from gitpython!=3.1.19,<4,>=3.0.7->streamlit)\n",
            "  Downloading gitdb-4.0.11-py3-none-any.whl (62 kB)\n",
            "\u001b[2K     \u001b[90m━━━━━━━━━━━━━━━━━━━━━━━━━━━━━━━━━━━━━━━━\u001b[0m \u001b[32m62.7/62.7 kB\u001b[0m \u001b[31m9.0 MB/s\u001b[0m eta \u001b[36m0:00:00\u001b[0m\n",
            "\u001b[?25hRequirement already satisfied: python-dateutil>=2.8.2 in /usr/local/lib/python3.10/dist-packages (from pandas<3,>=1.3.0->streamlit) (2.8.2)\n",
            "Requirement already satisfied: pytz>=2020.1 in /usr/local/lib/python3.10/dist-packages (from pandas<3,>=1.3.0->streamlit) (2023.4)\n",
            "Requirement already satisfied: tzdata>=2022.1 in /usr/local/lib/python3.10/dist-packages (from pandas<3,>=1.3.0->streamlit) (2024.1)\n",
            "Requirement already satisfied: charset-normalizer<4,>=2 in /usr/local/lib/python3.10/dist-packages (from requests<3,>=2.27->streamlit) (3.3.2)\n",
            "Requirement already satisfied: idna<4,>=2.5 in /usr/local/lib/python3.10/dist-packages (from requests<3,>=2.27->streamlit) (3.6)\n",
            "Requirement already satisfied: urllib3<3,>=1.21.1 in /usr/local/lib/python3.10/dist-packages (from requests<3,>=2.27->streamlit) (2.0.7)\n",
            "Requirement already satisfied: certifi>=2017.4.17 in /usr/local/lib/python3.10/dist-packages (from requests<3,>=2.27->streamlit) (2024.2.2)\n",
            "Requirement already satisfied: markdown-it-py>=2.2.0 in /usr/local/lib/python3.10/dist-packages (from rich<14,>=10.14.0->streamlit) (3.0.0)\n",
            "Requirement already satisfied: pygments<3.0.0,>=2.13.0 in /usr/local/lib/python3.10/dist-packages (from rich<14,>=10.14.0->streamlit) (2.16.1)\n",
            "Collecting smmap<6,>=3.0.1 (from gitdb<5,>=4.0.1->gitpython!=3.1.19,<4,>=3.0.7->streamlit)\n",
            "  Downloading smmap-5.0.1-py3-none-any.whl (24 kB)\n",
            "Requirement already satisfied: MarkupSafe>=2.0 in /usr/local/lib/python3.10/dist-packages (from jinja2->altair<6,>=4.0->streamlit) (2.1.5)\n",
            "Requirement already satisfied: attrs>=22.2.0 in /usr/local/lib/python3.10/dist-packages (from jsonschema>=3.0->altair<6,>=4.0->streamlit) (23.2.0)\n",
            "Requirement already satisfied: jsonschema-specifications>=2023.03.6 in /usr/local/lib/python3.10/dist-packages (from jsonschema>=3.0->altair<6,>=4.0->streamlit) (2023.12.1)\n",
            "Requirement already satisfied: referencing>=0.28.4 in /usr/local/lib/python3.10/dist-packages (from jsonschema>=3.0->altair<6,>=4.0->streamlit) (0.34.0)\n",
            "Requirement already satisfied: rpds-py>=0.7.1 in /usr/local/lib/python3.10/dist-packages (from jsonschema>=3.0->altair<6,>=4.0->streamlit) (0.18.0)\n",
            "Requirement already satisfied: mdurl~=0.1 in /usr/local/lib/python3.10/dist-packages (from markdown-it-py>=2.2.0->rich<14,>=10.14.0->streamlit) (0.1.2)\n",
            "Requirement already satisfied: six>=1.5 in /usr/local/lib/python3.10/dist-packages (from python-dateutil>=2.8.2->pandas<3,>=1.3.0->streamlit) (1.16.0)\n",
            "Installing collected packages: watchdog, smmap, pydeck, gitdb, gitpython, streamlit\n",
            "Successfully installed gitdb-4.0.11 gitpython-3.1.43 pydeck-0.8.1b0 smmap-5.0.1 streamlit-1.33.0 watchdog-4.0.0\n",
            "Collecting pyngrok\n",
            "  Downloading pyngrok-7.1.6-py3-none-any.whl (22 kB)\n",
            "Requirement already satisfied: PyYAML>=5.1 in /usr/local/lib/python3.10/dist-packages (from pyngrok) (6.0.1)\n",
            "Installing collected packages: pyngrok\n",
            "Successfully installed pyngrok-7.1.6\n"
          ]
        }
      ],
      "source": [
        "!pip install streamlit\n",
        "!pip install pyngrok\n",
        "from pyngrok import ngrok\n",
        "ngrok.set_auth_token('2MxoPumKq7ZZ17THSz6edXdLDRB_2v8ozGyoSmqEvH8ddHbEb')"
      ]
    },
    {
      "cell_type": "code",
      "execution_count": null,
      "metadata": {
        "colab": {
          "base_uri": "https://localhost:8080/"
        },
        "id": "f9LTiLUSUMWw",
        "outputId": "513d0930-550f-4187-83a9-494337ee39c7"
      },
      "outputs": [
        {
          "name": "stdout",
          "output_type": "stream",
          "text": [
            "Writing app.py\n"
          ]
        }
      ],
      "source": [
        "%%writefile app.py\n",
        "import contractions\n",
        "import string\n",
        "import re\n",
        "import joblib\n",
        "import tensorflow as tf\n",
        "import numpy as np\n",
        "import warnings\n",
        "warnings.filterwarnings(\"ignore\")\n",
        "import streamlit as st\n",
        "\n",
        "\n",
        "model_path = '/content/data/model'\n",
        "tokenizer_path = '/content/data/tokenizer.joblib'\n",
        "encoder_path = '/content/data/encoder.joblib'\n",
        "\n",
        "def balanced_accuracy(y_true, y_pred):\n",
        "    y_true = y_true.numpy()\n",
        "    y_pred = y_pred.numpy()\n",
        "    y_pred = np.argmax(y_pred,axis=-1)\n",
        "\n",
        "    y_true = y_true.ravel().astype('int32')\n",
        "    y_pred = y_pred.ravel().astype('int32')\n",
        "    return balanced_accuracy_score(y_true,y_pred)\n",
        "\n",
        "model = tf.keras.models.load_model(model_path,custom_objects = {'balanced_accuracy' : balanced_accuracy})\n",
        "tokenizer = joblib.load(tokenizer_path)\n",
        "encoder = joblib.load(encoder_path)\n",
        "\n",
        "\n",
        "def replace_url(tweet, default_replace=\"\"):\n",
        "    tweet = re.sub('(http|https):\\/\\/\\S+', default_replace, tweet)\n",
        "    return tweet\n",
        "\n",
        "def to_lowercase(tweet):\n",
        "    tweet = tweet.lower()\n",
        "    return tweet\n",
        "\n",
        "def word_repetition(tweet):\n",
        "    tweet = re.sub(r'(.)\\1+', r'\\1\\1', tweet)\n",
        "    return tweet\n",
        "\n",
        "def punct_repetition(tweet, default_replace=\"\"):\n",
        "    tweet = re.sub(r'[\\?\\.\\!]+(?=[\\?\\.\\!])', default_replace, tweet)\n",
        "    return tweet\n",
        "\n",
        "def fix_contractions(tweet):\n",
        "    tweet = contractions.fix(tweet)\n",
        "    return tweet\n",
        "\n",
        "def clean_text(sent):\n",
        "    tweet = replace_url(sent, default_replace=\"\")\n",
        "    tweet = to_lowercase(tweet)\n",
        "    tweet = word_repetition(tweet)\n",
        "    tweet = punct_repetition(tweet, default_replace=\"\")\n",
        "    tweet = fix_contractions(tweet)\n",
        "    tweet = re.sub(' +',' ',tweet)\n",
        "    translator = str.maketrans(string.punctuation, ' '*len(string.punctuation))\n",
        "    tweet = tweet.translate(translator)\n",
        "\n",
        "    return str(tweet)\n",
        "\n",
        "max_len = 2013\n",
        "def prediction(text):\n",
        "    original_text = text\n",
        "    text = clean_text(text)\n",
        "    text = tokenizer.texts_to_sequences([text])\n",
        "    text = tf.keras.preprocessing.sequence.pad_sequences(text, maxlen = max_len, padding = 'pre',truncating='post', value=0.0)\n",
        "    pred = model.predict(text)\n",
        "    pred = np.argmax(pred,axis=1)\n",
        "    pred = encoder.inverse_transform(pred)\n",
        "\n",
        "    return original_text,pred[0]\n",
        "\n",
        "\n",
        "st.title('Personality detection App')\n",
        "text_data = st.text_input(label='How are you feeling now?')\n",
        "if st.button('Predict'):\n",
        "    text,pred = prediction(text_data)\n",
        "    st.markdown(f'**Model Prediction = {pred}**')"
      ]
    },
    {
      "cell_type": "code",
      "execution_count": null,
      "metadata": {
        "colab": {
          "base_uri": "https://localhost:8080/"
        },
        "id": "zlLHdXfbVhdf",
        "outputId": "b0213702-c6bb-4434-f5da-537b0cb5853a"
      },
      "outputs": [
        {
          "name": "stdout",
          "output_type": "stream",
          "text": [
            "34.105.62.10\n"
          ]
        }
      ],
      "source": [
        "!curl icanhazip.com"
      ]
    },
    {
      "cell_type": "code",
      "execution_count": null,
      "metadata": {
        "id": "9sNi2afJzB3f"
      },
      "outputs": [],
      "source": [
        "!streamlit run app.py --server.headless true --server.fileWatcherType none --browser.gatherUsageStats false &>/content/logs.txt &\n"
      ]
    },
    {
      "cell_type": "code",
      "execution_count": null,
      "metadata": {
        "colab": {
          "base_uri": "https://localhost:8080/"
        },
        "id": "0Hj7Q6KZzFgV",
        "outputId": "6f1cfaf2-a4c9-4fb9-e9a1-82d84cbe2dd7"
      },
      "outputs": [
        {
          "name": "stdout",
          "output_type": "stream",
          "text": [
            "\u001b[K\u001b[?25h\u001b[37;40mnpm\u001b[0m \u001b[0m\u001b[30;43mWARN\u001b[0m \u001b[0m\u001b[35msaveError\u001b[0m ENOENT: no such file or directory, open '/content/package.json'\n",
            "\u001b[0m\u001b[37;40mnpm\u001b[0m \u001b[0m\u001b[34;40mnotice\u001b[0m\u001b[35m\u001b[0m created a lockfile as package-lock.json. You should commit this file.\n",
            "\u001b[0m\u001b[37;40mnpm\u001b[0m \u001b[0m\u001b[30;43mWARN\u001b[0m \u001b[0m\u001b[35menoent\u001b[0m ENOENT: no such file or directory, open '/content/package.json'\n",
            "\u001b[0m\u001b[37;40mnpm\u001b[0m \u001b[0m\u001b[30;43mWARN\u001b[0m\u001b[35m\u001b[0m content No description\n",
            "\u001b[0m\u001b[37;40mnpm\u001b[0m \u001b[0m\u001b[30;43mWARN\u001b[0m\u001b[35m\u001b[0m content No repository field.\n",
            "\u001b[0m\u001b[37;40mnpm\u001b[0m \u001b[0m\u001b[30;43mWARN\u001b[0m\u001b[35m\u001b[0m content No README data\n",
            "\u001b[0m\u001b[37;40mnpm\u001b[0m \u001b[0m\u001b[30;43mWARN\u001b[0m\u001b[35m\u001b[0m content No license field.\n",
            "\u001b[0m\n",
            "+ localtunnel@2.0.2\n",
            "added 22 packages from 22 contributors and audited 22 packages in 2.825s\n",
            "\n",
            "3 packages are looking for funding\n",
            "  run `npm fund` for details\n",
            "\n",
            "found 1 \u001b[93mmoderate\u001b[0m severity vulnerability\n",
            "  run `npm audit fix` to fix them, or `npm audit` for details\n",
            "\u001b[K\u001b[?25h"
          ]
        }
      ],
      "source": [
        "!npm install localtunnel"
      ]
    },
    {
      "cell_type": "code",
      "execution_count": null,
      "metadata": {
        "colab": {
          "background_save": true,
          "base_uri": "https://localhost:8080/"
        },
        "id": "iAoKyw0SzK1a",
        "outputId": "38600428-1637-4d83-fd8f-8585cf807ee3"
      },
      "outputs": [
        {
          "name": "stdout",
          "output_type": "stream",
          "text": [
            "\u001b[K\u001b[?25hnpx: installed 22 in 2.424s\n",
            "your url is: https://upset-regions-beam.loca.lt\n",
            "/root/.npm/_npx/4371/lib/node_modules/localtunnel/bin/lt.js:81\n",
            "    throw err;\n",
            "    ^\n",
            "\n",
            "Error: connection refused: localtunnel.me:44426 (check your firewall settings)\n",
            "    at Socket.<anonymous> (/root/.npm/_npx/4371/lib/node_modules/\u001b[4mlocaltunnel\u001b[24m/lib/TunnelCluster.js:52:11)\n",
            "\u001b[90m    at Socket.emit (events.js:315:20)\u001b[39m\n",
            "\u001b[90m    at emitErrorNT (internal/streams/destroy.js:106:8)\u001b[39m\n",
            "\u001b[90m    at emitErrorCloseNT (internal/streams/destroy.js:74:3)\u001b[39m\n",
            "\u001b[90m    at processTicksAndRejections (internal/process/task_queues.js:80:21)\u001b[39m\n"
          ]
        }
      ],
      "source": [
        "!npx localtunnel --port 8501"
      ]
    }
  ],
  "metadata": {
    "accelerator": "GPU",
    "colab": {
      "provenance": [],
      "include_colab_link": true
    },
    "gpuClass": "standard",
    "kernelspec": {
      "display_name": "Python 3",
      "name": "python3"
    },
    "language_info": {
      "name": "python"
    },
    "widgets": {
      "application/vnd.jupyter.widget-state+json": {
        "02c2bf719ca14ca6b36bd447b5fa8373": {
          "model_module": "@jupyter-widgets/base",
          "model_module_version": "1.2.0",
          "model_name": "LayoutModel",
          "state": {
            "_model_module": "@jupyter-widgets/base",
            "_model_module_version": "1.2.0",
            "_model_name": "LayoutModel",
            "_view_count": null,
            "_view_module": "@jupyter-widgets/base",
            "_view_module_version": "1.2.0",
            "_view_name": "LayoutView",
            "align_content": null,
            "align_items": null,
            "align_self": null,
            "border": null,
            "bottom": null,
            "display": null,
            "flex": null,
            "flex_flow": null,
            "grid_area": null,
            "grid_auto_columns": null,
            "grid_auto_flow": null,
            "grid_auto_rows": null,
            "grid_column": null,
            "grid_gap": null,
            "grid_row": null,
            "grid_template_areas": null,
            "grid_template_columns": null,
            "grid_template_rows": null,
            "height": null,
            "justify_content": null,
            "justify_items": null,
            "left": null,
            "margin": null,
            "max_height": null,
            "max_width": null,
            "min_height": null,
            "min_width": null,
            "object_fit": null,
            "object_position": null,
            "order": null,
            "overflow": null,
            "overflow_x": null,
            "overflow_y": null,
            "padding": null,
            "right": null,
            "top": null,
            "visibility": null,
            "width": null
          }
        },
        "28bdf9fd59454d509db90c4ad03ab90f": {
          "model_module": "@jupyter-widgets/controls",
          "model_module_version": "1.5.0",
          "model_name": "DescriptionStyleModel",
          "state": {
            "_model_module": "@jupyter-widgets/controls",
            "_model_module_version": "1.5.0",
            "_model_name": "DescriptionStyleModel",
            "_view_count": null,
            "_view_module": "@jupyter-widgets/base",
            "_view_module_version": "1.2.0",
            "_view_name": "StyleView",
            "description_width": ""
          }
        },
        "36efcc487bf84a4b9232e51256313006": {
          "model_module": "@jupyter-widgets/controls",
          "model_module_version": "1.5.0",
          "model_name": "DescriptionStyleModel",
          "state": {
            "_model_module": "@jupyter-widgets/controls",
            "_model_module_version": "1.5.0",
            "_model_name": "DescriptionStyleModel",
            "_view_count": null,
            "_view_module": "@jupyter-widgets/base",
            "_view_module_version": "1.2.0",
            "_view_name": "StyleView",
            "description_width": ""
          }
        },
        "60c6d1d0792348e89adec95b6d5823f2": {
          "model_module": "@jupyter-widgets/base",
          "model_module_version": "1.2.0",
          "model_name": "LayoutModel",
          "state": {
            "_model_module": "@jupyter-widgets/base",
            "_model_module_version": "1.2.0",
            "_model_name": "LayoutModel",
            "_view_count": null,
            "_view_module": "@jupyter-widgets/base",
            "_view_module_version": "1.2.0",
            "_view_name": "LayoutView",
            "align_content": null,
            "align_items": null,
            "align_self": null,
            "border": null,
            "bottom": null,
            "display": null,
            "flex": null,
            "flex_flow": null,
            "grid_area": null,
            "grid_auto_columns": null,
            "grid_auto_flow": null,
            "grid_auto_rows": null,
            "grid_column": null,
            "grid_gap": null,
            "grid_row": null,
            "grid_template_areas": null,
            "grid_template_columns": null,
            "grid_template_rows": null,
            "height": null,
            "justify_content": null,
            "justify_items": null,
            "left": null,
            "margin": null,
            "max_height": null,
            "max_width": null,
            "min_height": null,
            "min_width": null,
            "object_fit": null,
            "object_position": null,
            "order": null,
            "overflow": null,
            "overflow_x": null,
            "overflow_y": null,
            "padding": null,
            "right": null,
            "top": null,
            "visibility": null,
            "width": null
          }
        },
        "76a574015b774c68b6a17a8cb7d50acb": {
          "model_module": "@jupyter-widgets/controls",
          "model_module_version": "1.5.0",
          "model_name": "FloatProgressModel",
          "state": {
            "_dom_classes": [],
            "_model_module": "@jupyter-widgets/controls",
            "_model_module_version": "1.5.0",
            "_model_name": "FloatProgressModel",
            "_view_count": null,
            "_view_module": "@jupyter-widgets/controls",
            "_view_module_version": "1.5.0",
            "_view_name": "ProgressView",
            "bar_style": "success",
            "description": "",
            "description_tooltip": null,
            "layout": "IPY_MODEL_f61c268c05a4450c855bdf8a62aff100",
            "max": 8675,
            "min": 0,
            "orientation": "horizontal",
            "style": "IPY_MODEL_be03d93cc08e4f7e8f70bacfe1ab75b2",
            "value": 8675
          }
        },
        "7dd0c26d2a87466ab559319c3c2d0b88": {
          "model_module": "@jupyter-widgets/controls",
          "model_module_version": "1.5.0",
          "model_name": "HTMLModel",
          "state": {
            "_dom_classes": [],
            "_model_module": "@jupyter-widgets/controls",
            "_model_module_version": "1.5.0",
            "_model_name": "HTMLModel",
            "_view_count": null,
            "_view_module": "@jupyter-widgets/controls",
            "_view_module_version": "1.5.0",
            "_view_name": "HTMLView",
            "description": "",
            "description_tooltip": null,
            "layout": "IPY_MODEL_b4adb6f323ec47e38abab0c75c5baa0b",
            "placeholder": "​",
            "style": "IPY_MODEL_28bdf9fd59454d509db90c4ad03ab90f",
            "value": "100%"
          }
        },
        "b4adb6f323ec47e38abab0c75c5baa0b": {
          "model_module": "@jupyter-widgets/base",
          "model_module_version": "1.2.0",
          "model_name": "LayoutModel",
          "state": {
            "_model_module": "@jupyter-widgets/base",
            "_model_module_version": "1.2.0",
            "_model_name": "LayoutModel",
            "_view_count": null,
            "_view_module": "@jupyter-widgets/base",
            "_view_module_version": "1.2.0",
            "_view_name": "LayoutView",
            "align_content": null,
            "align_items": null,
            "align_self": null,
            "border": null,
            "bottom": null,
            "display": null,
            "flex": null,
            "flex_flow": null,
            "grid_area": null,
            "grid_auto_columns": null,
            "grid_auto_flow": null,
            "grid_auto_rows": null,
            "grid_column": null,
            "grid_gap": null,
            "grid_row": null,
            "grid_template_areas": null,
            "grid_template_columns": null,
            "grid_template_rows": null,
            "height": null,
            "justify_content": null,
            "justify_items": null,
            "left": null,
            "margin": null,
            "max_height": null,
            "max_width": null,
            "min_height": null,
            "min_width": null,
            "object_fit": null,
            "object_position": null,
            "order": null,
            "overflow": null,
            "overflow_x": null,
            "overflow_y": null,
            "padding": null,
            "right": null,
            "top": null,
            "visibility": null,
            "width": null
          }
        },
        "be03d93cc08e4f7e8f70bacfe1ab75b2": {
          "model_module": "@jupyter-widgets/controls",
          "model_module_version": "1.5.0",
          "model_name": "ProgressStyleModel",
          "state": {
            "_model_module": "@jupyter-widgets/controls",
            "_model_module_version": "1.5.0",
            "_model_name": "ProgressStyleModel",
            "_view_count": null,
            "_view_module": "@jupyter-widgets/base",
            "_view_module_version": "1.2.0",
            "_view_name": "StyleView",
            "bar_color": null,
            "description_width": ""
          }
        },
        "ce991acd67fb425d9f8676aa0f93cb96": {
          "model_module": "@jupyter-widgets/controls",
          "model_module_version": "1.5.0",
          "model_name": "HBoxModel",
          "state": {
            "_dom_classes": [],
            "_model_module": "@jupyter-widgets/controls",
            "_model_module_version": "1.5.0",
            "_model_name": "HBoxModel",
            "_view_count": null,
            "_view_module": "@jupyter-widgets/controls",
            "_view_module_version": "1.5.0",
            "_view_name": "HBoxView",
            "box_style": "",
            "children": [
              "IPY_MODEL_7dd0c26d2a87466ab559319c3c2d0b88",
              "IPY_MODEL_76a574015b774c68b6a17a8cb7d50acb",
              "IPY_MODEL_d6572269d91a4432a28f120ff2d4c82d"
            ],
            "layout": "IPY_MODEL_60c6d1d0792348e89adec95b6d5823f2"
          }
        },
        "d6572269d91a4432a28f120ff2d4c82d": {
          "model_module": "@jupyter-widgets/controls",
          "model_module_version": "1.5.0",
          "model_name": "HTMLModel",
          "state": {
            "_dom_classes": [],
            "_model_module": "@jupyter-widgets/controls",
            "_model_module_version": "1.5.0",
            "_model_name": "HTMLModel",
            "_view_count": null,
            "_view_module": "@jupyter-widgets/controls",
            "_view_module_version": "1.5.0",
            "_view_name": "HTMLView",
            "description": "",
            "description_tooltip": null,
            "layout": "IPY_MODEL_02c2bf719ca14ca6b36bd447b5fa8373",
            "placeholder": "​",
            "style": "IPY_MODEL_36efcc487bf84a4b9232e51256313006",
            "value": " 8675/8675 [00:16&lt;00:00, 593.59it/s]"
          }
        },
        "f61c268c05a4450c855bdf8a62aff100": {
          "model_module": "@jupyter-widgets/base",
          "model_module_version": "1.2.0",
          "model_name": "LayoutModel",
          "state": {
            "_model_module": "@jupyter-widgets/base",
            "_model_module_version": "1.2.0",
            "_model_name": "LayoutModel",
            "_view_count": null,
            "_view_module": "@jupyter-widgets/base",
            "_view_module_version": "1.2.0",
            "_view_name": "LayoutView",
            "align_content": null,
            "align_items": null,
            "align_self": null,
            "border": null,
            "bottom": null,
            "display": null,
            "flex": null,
            "flex_flow": null,
            "grid_area": null,
            "grid_auto_columns": null,
            "grid_auto_flow": null,
            "grid_auto_rows": null,
            "grid_column": null,
            "grid_gap": null,
            "grid_row": null,
            "grid_template_areas": null,
            "grid_template_columns": null,
            "grid_template_rows": null,
            "height": null,
            "justify_content": null,
            "justify_items": null,
            "left": null,
            "margin": null,
            "max_height": null,
            "max_width": null,
            "min_height": null,
            "min_width": null,
            "object_fit": null,
            "object_position": null,
            "order": null,
            "overflow": null,
            "overflow_x": null,
            "overflow_y": null,
            "padding": null,
            "right": null,
            "top": null,
            "visibility": null,
            "width": null
          }
        }
      }
    }
  },
  "nbformat": 4,
  "nbformat_minor": 0
}